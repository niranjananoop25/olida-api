{
 "cells": [
  {
   "cell_type": "markdown",
   "id": "a1641ffc",
   "metadata": {},
   "source": [
    "# Download OLIDA Excel files into jupyter notebook data folder\n",
    "On OLIDA website, download Excel files of \"Genes\", \"Diseases\", and \"Gene Combinations\" and upload to a data folder in jupyter notebook "
   ]
  },
  {
   "cell_type": "markdown",
   "id": "4a5d60b1",
   "metadata": {},
   "source": [
    "# Import modules"
   ]
  },
  {
   "cell_type": "code",
   "execution_count": 1,
   "id": "e035e376",
   "metadata": {},
   "outputs": [],
   "source": [
    "import pandas as pd"
   ]
  },
  {
   "cell_type": "markdown",
   "id": "40fd04dc",
   "metadata": {},
   "source": [
    "# Get Excel data"
   ]
  },
  {
   "cell_type": "code",
   "execution_count": 2,
   "id": "1be9a6eb",
   "metadata": {},
   "outputs": [],
   "source": [
    "# Get gene data\n",
    "df_gene = pd.read_excel('../data/Gene.xlsx', skiprows=1)\n",
    "\n",
    "# Get disease data\n",
    "df_disease = pd.read_excel('../data/Disease.xlsx', skiprows=1)\n",
    "\n",
    "# Get gene combo data\n",
    "df_combo = pd.read_excel('../data/GeneCombination.xlsx', skiprows=1)"
   ]
  },
  {
   "cell_type": "markdown",
   "id": "43032c91",
   "metadata": {},
   "source": [
    "# Prepare dataframes"
   ]
  },
  {
   "cell_type": "code",
   "execution_count": 3,
   "id": "1e3bed42",
   "metadata": {},
   "outputs": [],
   "source": [
    "# Rename columns for exploding and merging\n",
    "df_combo.rename(columns = {'Oligogenic variant combinations':'Combinations'}, inplace = True)\n",
    "df_combo.rename(columns = {'Genes':'Partner Genes'}, inplace = True)\n",
    "df_disease.rename(columns = {'Disease Name':'Diseases'}, inplace = True)\n",
    "\n",
    "# Drop unwanted series\n",
    "df_gene.drop(columns=['Ensembl Id', 'Entrez Id', 'Chromosome', 'Uniprot Accession Number', 'Gene Ontology Molecular Function', 'Essential In Mouse', 'Pathway', 'Variants', 'Diseases'], inplace=True)\n",
    "df_disease.drop(columns = ['Orphanet ID', 'ICD-10 Category', 'Omim Id'], inplace=True)\n",
    "df_combo.drop(columns=['Entry Id', 'Genes Relationship', 'Protein Interactions', 'Common Pathways', 'Common Pathways', 'GENEmeta'], inplace=True)"
   ]
  },
  {
   "cell_type": "markdown",
   "id": "dbf2afc1",
   "metadata": {},
   "source": [
    "# Define function"
   ]
  },
  {
   "cell_type": "code",
   "execution_count": 4,
   "id": "e69f7e82",
   "metadata": {},
   "outputs": [],
   "source": [
    "# Make combos in series into lists then explode\n",
    "def combo_explode(df):\n",
    "    df['Combinations'] = df['Combinations'].str.replace(';', '').apply(str.split)\n",
    "    newdf = df.explode('Combinations')\n",
    "    return newdf.sort_values(\"Combinations\")"
   ]
  },
  {
   "cell_type": "markdown",
   "id": "8a812a80",
   "metadata": {},
   "source": [
    " # Execute functions"
   ]
  },
  {
   "cell_type": "code",
   "execution_count": 5,
   "id": "4e12a8cc",
   "metadata": {},
   "outputs": [],
   "source": [
    "df_gene = combo_explode(df_gene)\n",
    "df_disease = combo_explode(df_disease)\n",
    "df_combo = combo_explode(df_combo)"
   ]
  },
  {
   "cell_type": "code",
   "execution_count": 6,
   "id": "21b95c27",
   "metadata": {},
   "outputs": [
    {
     "data": {
      "text/html": [
       "<div>\n",
       "<style scoped>\n",
       "    .dataframe tbody tr th:only-of-type {\n",
       "        vertical-align: middle;\n",
       "    }\n",
       "\n",
       "    .dataframe tbody tr th {\n",
       "        vertical-align: top;\n",
       "    }\n",
       "\n",
       "    .dataframe thead th {\n",
       "        text-align: right;\n",
       "    }\n",
       "</style>\n",
       "<table border=\"1\" class=\"dataframe\">\n",
       "  <thead>\n",
       "    <tr style=\"text-align: right;\">\n",
       "      <th></th>\n",
       "      <th>Gene Name</th>\n",
       "      <th>Combinations</th>\n",
       "      <th>Diseases</th>\n",
       "      <th>ICD-10 ID</th>\n",
       "      <th>Partner Genes</th>\n",
       "    </tr>\n",
       "  </thead>\n",
       "  <tbody>\n",
       "    <tr>\n",
       "      <th>0</th>\n",
       "      <td>CPO</td>\n",
       "      <td>OLI001</td>\n",
       "      <td>Hereditary coproporphyria</td>\n",
       "      <td>E80.2</td>\n",
       "      <td>ALAD; CPO</td>\n",
       "    </tr>\n",
       "    <tr>\n",
       "      <th>1</th>\n",
       "      <td>ALAD</td>\n",
       "      <td>OLI001</td>\n",
       "      <td>Hereditary coproporphyria</td>\n",
       "      <td>E80.2</td>\n",
       "      <td>ALAD; CPO</td>\n",
       "    </tr>\n",
       "    <tr>\n",
       "      <th>2</th>\n",
       "      <td>NOTCH3</td>\n",
       "      <td>OLI002</td>\n",
       "      <td>Idiopathic pulmonary arterial hypertension</td>\n",
       "      <td>I27.0</td>\n",
       "      <td>BMPR2; NOTCH3</td>\n",
       "    </tr>\n",
       "    <tr>\n",
       "      <th>3</th>\n",
       "      <td>BMPR2</td>\n",
       "      <td>OLI002</td>\n",
       "      <td>Idiopathic pulmonary arterial hypertension</td>\n",
       "      <td>I27.0</td>\n",
       "      <td>BMPR2; NOTCH3</td>\n",
       "    </tr>\n",
       "    <tr>\n",
       "      <th>4</th>\n",
       "      <td>NOTCH3</td>\n",
       "      <td>OLI003</td>\n",
       "      <td>Idiopathic pulmonary arterial hypertension</td>\n",
       "      <td>I27.0</td>\n",
       "      <td>BMPR2; NOTCH3</td>\n",
       "    </tr>\n",
       "    <tr>\n",
       "      <th>...</th>\n",
       "      <td>...</td>\n",
       "      <td>...</td>\n",
       "      <td>...</td>\n",
       "      <td>...</td>\n",
       "      <td>...</td>\n",
       "    </tr>\n",
       "    <tr>\n",
       "      <th>4003</th>\n",
       "      <td>AR</td>\n",
       "      <td>OLI998</td>\n",
       "      <td>46,XY disorder of sex development</td>\n",
       "      <td>N.A.</td>\n",
       "      <td>AR; MYH6; NR5A1</td>\n",
       "    </tr>\n",
       "    <tr>\n",
       "      <th>4004</th>\n",
       "      <td>SRD5A2</td>\n",
       "      <td>OLI999</td>\n",
       "      <td>Androgen insensitivity syndrome</td>\n",
       "      <td>E34.5</td>\n",
       "      <td>AR; SRD5A2</td>\n",
       "    </tr>\n",
       "    <tr>\n",
       "      <th>4005</th>\n",
       "      <td>SRD5A2</td>\n",
       "      <td>OLI999</td>\n",
       "      <td>46,XY disorder of sex development</td>\n",
       "      <td>N.A.</td>\n",
       "      <td>AR; SRD5A2</td>\n",
       "    </tr>\n",
       "    <tr>\n",
       "      <th>4006</th>\n",
       "      <td>AR</td>\n",
       "      <td>OLI999</td>\n",
       "      <td>Androgen insensitivity syndrome</td>\n",
       "      <td>E34.5</td>\n",
       "      <td>AR; SRD5A2</td>\n",
       "    </tr>\n",
       "    <tr>\n",
       "      <th>4007</th>\n",
       "      <td>AR</td>\n",
       "      <td>OLI999</td>\n",
       "      <td>46,XY disorder of sex development</td>\n",
       "      <td>N.A.</td>\n",
       "      <td>AR; SRD5A2</td>\n",
       "    </tr>\n",
       "  </tbody>\n",
       "</table>\n",
       "<p>4008 rows × 5 columns</p>\n",
       "</div>"
      ],
      "text/plain": [
       "     Gene Name Combinations                                    Diseases  \\\n",
       "0          CPO       OLI001                   Hereditary coproporphyria   \n",
       "1         ALAD       OLI001                   Hereditary coproporphyria   \n",
       "2       NOTCH3       OLI002  Idiopathic pulmonary arterial hypertension   \n",
       "3        BMPR2       OLI002  Idiopathic pulmonary arterial hypertension   \n",
       "4       NOTCH3       OLI003  Idiopathic pulmonary arterial hypertension   \n",
       "...        ...          ...                                         ...   \n",
       "4003        AR       OLI998           46,XY disorder of sex development   \n",
       "4004    SRD5A2       OLI999             Androgen insensitivity syndrome   \n",
       "4005    SRD5A2       OLI999           46,XY disorder of sex development   \n",
       "4006        AR       OLI999             Androgen insensitivity syndrome   \n",
       "4007        AR       OLI999           46,XY disorder of sex development   \n",
       "\n",
       "     ICD-10 ID    Partner Genes  \n",
       "0        E80.2        ALAD; CPO  \n",
       "1        E80.2        ALAD; CPO  \n",
       "2        I27.0    BMPR2; NOTCH3  \n",
       "3        I27.0    BMPR2; NOTCH3  \n",
       "4        I27.0    BMPR2; NOTCH3  \n",
       "...        ...              ...  \n",
       "4003      N.A.  AR; MYH6; NR5A1  \n",
       "4004     E34.5       AR; SRD5A2  \n",
       "4005      N.A.       AR; SRD5A2  \n",
       "4006     E34.5       AR; SRD5A2  \n",
       "4007      N.A.       AR; SRD5A2  \n",
       "\n",
       "[4008 rows x 5 columns]"
      ]
     },
     "execution_count": 6,
     "metadata": {},
     "output_type": "execute_result"
    }
   ],
   "source": [
    "# Merge dataframes via \"Combinations\"\n",
    "mergedf = df_gene.merge(df_disease, on=[\"Combinations\"], how=\"left\")\n",
    "mergedf2 = mergedf.merge(df_combo, on=\"Combinations\", how=\"left\")\n",
    "\n",
    "mergedf2"
   ]
  },
  {
   "cell_type": "markdown",
   "id": "bb7eb91f",
   "metadata": {},
   "source": [
    "# Save to local file"
   ]
  },
  {
   "cell_type": "code",
   "execution_count": 7,
   "id": "339e5cdd",
   "metadata": {},
   "outputs": [],
   "source": [
    "mergedf2.to_csv('../data/olidaexcel.csv', index=False)"
   ]
  }
 ],
 "metadata": {
  "kernelspec": {
   "display_name": "Python 3 (ipykernel)",
   "language": "python",
   "name": "python3"
  },
  "language_info": {
   "codemirror_mode": {
    "name": "ipython",
    "version": 3
   },
   "file_extension": ".py",
   "mimetype": "text/x-python",
   "name": "python",
   "nbconvert_exporter": "python",
   "pygments_lexer": "ipython3",
   "version": "3.11.4"
  }
 },
 "nbformat": 4,
 "nbformat_minor": 5
}
