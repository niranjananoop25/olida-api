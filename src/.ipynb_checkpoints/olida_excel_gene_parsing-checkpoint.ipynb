{
 "cells": [
  {
   "cell_type": "markdown",
   "id": "a1641ffc",
   "metadata": {},
   "source": [
    "# Download OLIDA Excel files into jupyter notebook data folder\n",
    "On OLIDA website, download Excel files of \"Genes\", \"Diseases\", and \"Gene Combinations\" and upload to a data folder in jupyter notebook "
   ]
  },
  {
   "cell_type": "markdown",
   "id": "4a5d60b1",
   "metadata": {},
   "source": [
    "# Import modules"
   ]
  },
  {
   "cell_type": "code",
   "execution_count": 1,
   "id": "e035e376",
   "metadata": {},
   "outputs": [],
   "source": [
    "import pandas as pd"
   ]
  },
  {
   "cell_type": "markdown",
   "id": "40fd04dc",
   "metadata": {},
   "source": [
    "# Get Excel data"
   ]
  },
  {
   "cell_type": "code",
   "execution_count": 2,
   "id": "1be9a6eb",
   "metadata": {},
   "outputs": [
    {
     "ename": "FileNotFoundError",
     "evalue": "[Errno 2] No such file or directory: 'data/Gene.xlsx'",
     "output_type": "error",
     "traceback": [
      "\u001b[0;31m---------------------------------------------------------------------------\u001b[0m",
      "\u001b[0;31mFileNotFoundError\u001b[0m                         Traceback (most recent call last)",
      "Cell \u001b[0;32mIn[2], line 2\u001b[0m\n\u001b[1;32m      1\u001b[0m \u001b[38;5;66;03m# Get gene data\u001b[39;00m\n\u001b[0;32m----> 2\u001b[0m df_gene \u001b[38;5;241m=\u001b[39m pd\u001b[38;5;241m.\u001b[39mread_excel(\u001b[38;5;124m'\u001b[39m\u001b[38;5;124mdata/Gene.xlsx\u001b[39m\u001b[38;5;124m'\u001b[39m, skiprows\u001b[38;5;241m=\u001b[39m\u001b[38;5;241m1\u001b[39m)\n\u001b[1;32m      4\u001b[0m \u001b[38;5;66;03m# Get disease data\u001b[39;00m\n\u001b[1;32m      5\u001b[0m df_disease \u001b[38;5;241m=\u001b[39m pd\u001b[38;5;241m.\u001b[39mread_excel(\u001b[38;5;124m'\u001b[39m\u001b[38;5;124mdata/Disease.xlsx\u001b[39m\u001b[38;5;124m'\u001b[39m, skiprows\u001b[38;5;241m=\u001b[39m\u001b[38;5;241m1\u001b[39m)\n",
      "File \u001b[0;32m~/miniconda3/envs/oligo/lib/python3.11/site-packages/pandas/io/excel/_base.py:478\u001b[0m, in \u001b[0;36mread_excel\u001b[0;34m(io, sheet_name, header, names, index_col, usecols, dtype, engine, converters, true_values, false_values, skiprows, nrows, na_values, keep_default_na, na_filter, verbose, parse_dates, date_parser, date_format, thousands, decimal, comment, skipfooter, storage_options, dtype_backend)\u001b[0m\n\u001b[1;32m    476\u001b[0m \u001b[38;5;28;01mif\u001b[39;00m \u001b[38;5;129;01mnot\u001b[39;00m \u001b[38;5;28misinstance\u001b[39m(io, ExcelFile):\n\u001b[1;32m    477\u001b[0m     should_close \u001b[38;5;241m=\u001b[39m \u001b[38;5;28;01mTrue\u001b[39;00m\n\u001b[0;32m--> 478\u001b[0m     io \u001b[38;5;241m=\u001b[39m ExcelFile(io, storage_options\u001b[38;5;241m=\u001b[39mstorage_options, engine\u001b[38;5;241m=\u001b[39mengine)\n\u001b[1;32m    479\u001b[0m \u001b[38;5;28;01melif\u001b[39;00m engine \u001b[38;5;129;01mand\u001b[39;00m engine \u001b[38;5;241m!=\u001b[39m io\u001b[38;5;241m.\u001b[39mengine:\n\u001b[1;32m    480\u001b[0m     \u001b[38;5;28;01mraise\u001b[39;00m \u001b[38;5;167;01mValueError\u001b[39;00m(\n\u001b[1;32m    481\u001b[0m         \u001b[38;5;124m\"\u001b[39m\u001b[38;5;124mEngine should not be specified when passing \u001b[39m\u001b[38;5;124m\"\u001b[39m\n\u001b[1;32m    482\u001b[0m         \u001b[38;5;124m\"\u001b[39m\u001b[38;5;124man ExcelFile - ExcelFile already has the engine set\u001b[39m\u001b[38;5;124m\"\u001b[39m\n\u001b[1;32m    483\u001b[0m     )\n",
      "File \u001b[0;32m~/miniconda3/envs/oligo/lib/python3.11/site-packages/pandas/io/excel/_base.py:1496\u001b[0m, in \u001b[0;36mExcelFile.__init__\u001b[0;34m(self, path_or_buffer, engine, storage_options)\u001b[0m\n\u001b[1;32m   1494\u001b[0m     ext \u001b[38;5;241m=\u001b[39m \u001b[38;5;124m\"\u001b[39m\u001b[38;5;124mxls\u001b[39m\u001b[38;5;124m\"\u001b[39m\n\u001b[1;32m   1495\u001b[0m \u001b[38;5;28;01melse\u001b[39;00m:\n\u001b[0;32m-> 1496\u001b[0m     ext \u001b[38;5;241m=\u001b[39m inspect_excel_format(\n\u001b[1;32m   1497\u001b[0m         content_or_path\u001b[38;5;241m=\u001b[39mpath_or_buffer, storage_options\u001b[38;5;241m=\u001b[39mstorage_options\n\u001b[1;32m   1498\u001b[0m     )\n\u001b[1;32m   1499\u001b[0m     \u001b[38;5;28;01mif\u001b[39;00m ext \u001b[38;5;129;01mis\u001b[39;00m \u001b[38;5;28;01mNone\u001b[39;00m:\n\u001b[1;32m   1500\u001b[0m         \u001b[38;5;28;01mraise\u001b[39;00m \u001b[38;5;167;01mValueError\u001b[39;00m(\n\u001b[1;32m   1501\u001b[0m             \u001b[38;5;124m\"\u001b[39m\u001b[38;5;124mExcel file format cannot be determined, you must specify \u001b[39m\u001b[38;5;124m\"\u001b[39m\n\u001b[1;32m   1502\u001b[0m             \u001b[38;5;124m\"\u001b[39m\u001b[38;5;124man engine manually.\u001b[39m\u001b[38;5;124m\"\u001b[39m\n\u001b[1;32m   1503\u001b[0m         )\n",
      "File \u001b[0;32m~/miniconda3/envs/oligo/lib/python3.11/site-packages/pandas/io/excel/_base.py:1371\u001b[0m, in \u001b[0;36minspect_excel_format\u001b[0;34m(content_or_path, storage_options)\u001b[0m\n\u001b[1;32m   1368\u001b[0m \u001b[38;5;28;01mif\u001b[39;00m \u001b[38;5;28misinstance\u001b[39m(content_or_path, \u001b[38;5;28mbytes\u001b[39m):\n\u001b[1;32m   1369\u001b[0m     content_or_path \u001b[38;5;241m=\u001b[39m BytesIO(content_or_path)\n\u001b[0;32m-> 1371\u001b[0m \u001b[38;5;28;01mwith\u001b[39;00m get_handle(\n\u001b[1;32m   1372\u001b[0m     content_or_path, \u001b[38;5;124m\"\u001b[39m\u001b[38;5;124mrb\u001b[39m\u001b[38;5;124m\"\u001b[39m, storage_options\u001b[38;5;241m=\u001b[39mstorage_options, is_text\u001b[38;5;241m=\u001b[39m\u001b[38;5;28;01mFalse\u001b[39;00m\n\u001b[1;32m   1373\u001b[0m ) \u001b[38;5;28;01mas\u001b[39;00m handle:\n\u001b[1;32m   1374\u001b[0m     stream \u001b[38;5;241m=\u001b[39m handle\u001b[38;5;241m.\u001b[39mhandle\n\u001b[1;32m   1375\u001b[0m     stream\u001b[38;5;241m.\u001b[39mseek(\u001b[38;5;241m0\u001b[39m)\n",
      "File \u001b[0;32m~/miniconda3/envs/oligo/lib/python3.11/site-packages/pandas/io/common.py:868\u001b[0m, in \u001b[0;36mget_handle\u001b[0;34m(path_or_buf, mode, encoding, compression, memory_map, is_text, errors, storage_options)\u001b[0m\n\u001b[1;32m    859\u001b[0m         handle \u001b[38;5;241m=\u001b[39m \u001b[38;5;28mopen\u001b[39m(\n\u001b[1;32m    860\u001b[0m             handle,\n\u001b[1;32m    861\u001b[0m             ioargs\u001b[38;5;241m.\u001b[39mmode,\n\u001b[0;32m   (...)\u001b[0m\n\u001b[1;32m    864\u001b[0m             newline\u001b[38;5;241m=\u001b[39m\u001b[38;5;124m\"\u001b[39m\u001b[38;5;124m\"\u001b[39m,\n\u001b[1;32m    865\u001b[0m         )\n\u001b[1;32m    866\u001b[0m     \u001b[38;5;28;01melse\u001b[39;00m:\n\u001b[1;32m    867\u001b[0m         \u001b[38;5;66;03m# Binary mode\u001b[39;00m\n\u001b[0;32m--> 868\u001b[0m         handle \u001b[38;5;241m=\u001b[39m \u001b[38;5;28mopen\u001b[39m(handle, ioargs\u001b[38;5;241m.\u001b[39mmode)\n\u001b[1;32m    869\u001b[0m     handles\u001b[38;5;241m.\u001b[39mappend(handle)\n\u001b[1;32m    871\u001b[0m \u001b[38;5;66;03m# Convert BytesIO or file objects passed with an encoding\u001b[39;00m\n",
      "\u001b[0;31mFileNotFoundError\u001b[0m: [Errno 2] No such file or directory: 'data/Gene.xlsx'"
     ]
    }
   ],
   "source": [
    "# Get gene data\n",
    "df_gene = pd.read_excel('data/Gene.xlsx', skiprows=1)\n",
    "\n",
    "# Get disease data\n",
    "df_disease = pd.read_excel('data/Disease.xlsx', skiprows=1)\n",
    "\n",
    "#Get gene combo data\n",
    "df_combo = pd.read_excel('data/GeneCombination.xlsx', skiprows=1)"
   ]
  },
  {
   "cell_type": "markdown",
   "id": "43032c91",
   "metadata": {},
   "source": [
    "# Prepare dataframes"
   ]
  },
  {
   "cell_type": "code",
   "execution_count": 111,
   "id": "1e3bed42",
   "metadata": {},
   "outputs": [],
   "source": [
    "#Rename columns for exploding and merging\n",
    "df_combo.rename(columns = {'Oligogenic variant combinations':'Combinations'}, inplace = True)\n",
    "df_combo.rename(columns = {'Genes':'Partner Genes'}, inplace = True)\n",
    "df_disease.rename(columns = {'Disease Name':'Diseases'}, inplace = True)\n",
    "\n",
    "# Drop unwanted series\n",
    "df_gene.drop(columns=['Ensembl Id', 'Entrez Id', 'Chromosome', 'Uniprot Accession Number', 'Gene Ontology Molecular Function', 'Essential In Mouse', 'Pathway', 'Variants'], inplace=True)\n",
    "df_disease.drop(columns = ['Orphanet ID', 'ICD-10 Category', 'Omim Id'], inplace=True)\n",
    "df_combo.drop(columns=['Entry Id', 'Genes Relationship', 'Protein Interactions', 'Common Pathways', 'Common Pathways', 'GENEmeta'], inplace=True)"
   ]
  },
  {
   "cell_type": "markdown",
   "id": "dbf2afc1",
   "metadata": {},
   "source": [
    "# Define function"
   ]
  },
  {
   "cell_type": "code",
   "execution_count": 112,
   "id": "e69f7e82",
   "metadata": {},
   "outputs": [],
   "source": [
    "#Make combos in series into lists then explode\n",
    "def combo_explode(df):\n",
    "    df['Combinations'] = df['Combinations'].str.replace(';', '').apply(str.split)\n",
    "    newdf = df.explode('Combinations')\n",
    "    return newdf.sort_values(\"Combinations\")"
   ]
  },
  {
   "cell_type": "markdown",
   "id": "8a812a80",
   "metadata": {},
   "source": [
    " # Execute functions"
   ]
  },
  {
   "cell_type": "code",
   "execution_count": 113,
   "id": "4e12a8cc",
   "metadata": {},
   "outputs": [],
   "source": [
    "df_gene = combo_explode(df_gene)\n",
    "df_disease = combo_explode(df_disease)\n",
    "df_combo = combo_explode(df_combo)"
   ]
  },
  {
   "cell_type": "code",
   "execution_count": 114,
   "id": "21b95c27",
   "metadata": {},
   "outputs": [
    {
     "data": {
      "text/html": [
       "<div>\n",
       "<style scoped>\n",
       "    .dataframe tbody tr th:only-of-type {\n",
       "        vertical-align: middle;\n",
       "    }\n",
       "\n",
       "    .dataframe tbody tr th {\n",
       "        vertical-align: top;\n",
       "    }\n",
       "\n",
       "    .dataframe thead th {\n",
       "        text-align: right;\n",
       "    }\n",
       "</style>\n",
       "<table border=\"1\" class=\"dataframe\">\n",
       "  <thead>\n",
       "    <tr style=\"text-align: right;\">\n",
       "      <th></th>\n",
       "      <th>Gene Name</th>\n",
       "      <th>Combinations</th>\n",
       "      <th>Diseases</th>\n",
       "      <th>ICD-10 ID</th>\n",
       "      <th>Partner Genes</th>\n",
       "    </tr>\n",
       "  </thead>\n",
       "  <tbody>\n",
       "    <tr>\n",
       "      <th>0</th>\n",
       "      <td>CPO</td>\n",
       "      <td>OLI001</td>\n",
       "      <td>Hereditary coproporphyria</td>\n",
       "      <td>E80.2</td>\n",
       "      <td>ALAD; CPO</td>\n",
       "    </tr>\n",
       "    <tr>\n",
       "      <th>1</th>\n",
       "      <td>ALAD</td>\n",
       "      <td>OLI001</td>\n",
       "      <td>Hereditary coproporphyria</td>\n",
       "      <td>E80.2</td>\n",
       "      <td>ALAD; CPO</td>\n",
       "    </tr>\n",
       "    <tr>\n",
       "      <th>2</th>\n",
       "      <td>NOTCH3</td>\n",
       "      <td>OLI002</td>\n",
       "      <td>Primary ovarian failure; Idiopathic pulmonary ...</td>\n",
       "      <td>NaN</td>\n",
       "      <td>BMPR2; NOTCH3</td>\n",
       "    </tr>\n",
       "    <tr>\n",
       "      <th>3</th>\n",
       "      <td>BMPR2</td>\n",
       "      <td>OLI002</td>\n",
       "      <td>Pulmonary arterial hypertension; Heritable pul...</td>\n",
       "      <td>NaN</td>\n",
       "      <td>BMPR2; NOTCH3</td>\n",
       "    </tr>\n",
       "    <tr>\n",
       "      <th>4</th>\n",
       "      <td>NOTCH3</td>\n",
       "      <td>OLI003</td>\n",
       "      <td>Primary ovarian failure; Idiopathic pulmonary ...</td>\n",
       "      <td>NaN</td>\n",
       "      <td>BMPR2; NOTCH3</td>\n",
       "    </tr>\n",
       "    <tr>\n",
       "      <th>...</th>\n",
       "      <td>...</td>\n",
       "      <td>...</td>\n",
       "      <td>...</td>\n",
       "      <td>...</td>\n",
       "      <td>...</td>\n",
       "    </tr>\n",
       "    <tr>\n",
       "      <th>3862</th>\n",
       "      <td>MYH6</td>\n",
       "      <td>OLI998</td>\n",
       "      <td>Hypertrophic cardiomyopathy; Androgen insensit...</td>\n",
       "      <td>NaN</td>\n",
       "      <td>AR; MYH6; NR5A1</td>\n",
       "    </tr>\n",
       "    <tr>\n",
       "      <th>3861</th>\n",
       "      <td>NR5A1</td>\n",
       "      <td>OLI998</td>\n",
       "      <td>46,XY disorder of sex development; Syndrome wi...</td>\n",
       "      <td>NaN</td>\n",
       "      <td>AR; MYH6; NR5A1</td>\n",
       "    </tr>\n",
       "    <tr>\n",
       "      <th>3863</th>\n",
       "      <td>AR</td>\n",
       "      <td>OLI998</td>\n",
       "      <td>Amyotrophic lateral sclerosis; 46,XY disorder ...</td>\n",
       "      <td>NaN</td>\n",
       "      <td>AR; MYH6; NR5A1</td>\n",
       "    </tr>\n",
       "    <tr>\n",
       "      <th>3864</th>\n",
       "      <td>SRD5A2</td>\n",
       "      <td>OLI999</td>\n",
       "      <td>Non-syndromic posterior hypospadias; Androgen ...</td>\n",
       "      <td>NaN</td>\n",
       "      <td>AR; SRD5A2</td>\n",
       "    </tr>\n",
       "    <tr>\n",
       "      <th>3865</th>\n",
       "      <td>AR</td>\n",
       "      <td>OLI999</td>\n",
       "      <td>Amyotrophic lateral sclerosis; 46,XY disorder ...</td>\n",
       "      <td>NaN</td>\n",
       "      <td>AR; SRD5A2</td>\n",
       "    </tr>\n",
       "  </tbody>\n",
       "</table>\n",
       "<p>3866 rows × 5 columns</p>\n",
       "</div>"
      ],
      "text/plain": [
       "     Gene Name Combinations  \\\n",
       "0          CPO       OLI001   \n",
       "1         ALAD       OLI001   \n",
       "2       NOTCH3       OLI002   \n",
       "3        BMPR2       OLI002   \n",
       "4       NOTCH3       OLI003   \n",
       "...        ...          ...   \n",
       "3862      MYH6       OLI998   \n",
       "3861     NR5A1       OLI998   \n",
       "3863        AR       OLI998   \n",
       "3864    SRD5A2       OLI999   \n",
       "3865        AR       OLI999   \n",
       "\n",
       "                                               Diseases ICD-10 ID  \\\n",
       "0                             Hereditary coproporphyria     E80.2   \n",
       "1                             Hereditary coproporphyria     E80.2   \n",
       "2     Primary ovarian failure; Idiopathic pulmonary ...       NaN   \n",
       "3     Pulmonary arterial hypertension; Heritable pul...       NaN   \n",
       "4     Primary ovarian failure; Idiopathic pulmonary ...       NaN   \n",
       "...                                                 ...       ...   \n",
       "3862  Hypertrophic cardiomyopathy; Androgen insensit...       NaN   \n",
       "3861  46,XY disorder of sex development; Syndrome wi...       NaN   \n",
       "3863  Amyotrophic lateral sclerosis; 46,XY disorder ...       NaN   \n",
       "3864  Non-syndromic posterior hypospadias; Androgen ...       NaN   \n",
       "3865  Amyotrophic lateral sclerosis; 46,XY disorder ...       NaN   \n",
       "\n",
       "        Partner Genes  \n",
       "0           ALAD; CPO  \n",
       "1           ALAD; CPO  \n",
       "2       BMPR2; NOTCH3  \n",
       "3       BMPR2; NOTCH3  \n",
       "4       BMPR2; NOTCH3  \n",
       "...               ...  \n",
       "3862  AR; MYH6; NR5A1  \n",
       "3861  AR; MYH6; NR5A1  \n",
       "3863  AR; MYH6; NR5A1  \n",
       "3864       AR; SRD5A2  \n",
       "3865       AR; SRD5A2  \n",
       "\n",
       "[3866 rows x 5 columns]"
      ]
     },
     "execution_count": 114,
     "metadata": {},
     "output_type": "execute_result"
    }
   ],
   "source": [
    "# Merge dataframes via \"Combinations\"\n",
    "mergedf = df_gene.merge(df_disease, on=[\"Combinations\", \"Diseases\"], how=\"left\")\n",
    "mergedf2 = mergedf.merge(df_combo, on=\"Combinations\", how=\"left\")\n",
    "\n",
    "mergedf2.sort_values(by = 'Combinations')"
   ]
  },
  {
   "cell_type": "markdown",
   "id": "bb7eb91f",
   "metadata": {},
   "source": [
    "# Save to local file"
   ]
  },
  {
   "cell_type": "code",
   "execution_count": 115,
   "id": "339e5cdd",
   "metadata": {},
   "outputs": [],
   "source": [
    "mergedf2.to_csv('olidaexcel.csv', index=False)"
   ]
  }
 ],
 "metadata": {
  "kernelspec": {
   "display_name": "Python 3 (ipykernel)",
   "language": "python",
   "name": "python3"
  },
  "language_info": {
   "codemirror_mode": {
    "name": "ipython",
    "version": 3
   },
   "file_extension": ".py",
   "mimetype": "text/x-python",
   "name": "python",
   "nbconvert_exporter": "python",
   "pygments_lexer": "ipython3",
   "version": "3.11.4"
  }
 },
 "nbformat": 4,
 "nbformat_minor": 5
}
