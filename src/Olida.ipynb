{
 "cells": [
  {
   "cell_type": "markdown",
   "id": "8cf8c022",
   "metadata": {},
   "source": [
    "# Basics of python\n",
    "\n",
    "## Assign variables, learn operations and define functions"
   ]
  },
  {
   "cell_type": "code",
   "execution_count": 1,
   "id": "cd94fff0",
   "metadata": {},
   "outputs": [],
   "source": [
    "mynumber = 5"
   ]
  },
  {
   "cell_type": "code",
   "execution_count": 2,
   "id": "27c05a63",
   "metadata": {},
   "outputs": [],
   "source": [
    "anothernumber = 7"
   ]
  },
  {
   "cell_type": "code",
   "execution_count": 3,
   "id": "dacc86a0",
   "metadata": {},
   "outputs": [
    {
     "data": {
      "text/plain": [
       "12"
      ]
     },
     "execution_count": 3,
     "metadata": {},
     "output_type": "execute_result"
    }
   ],
   "source": [
    "mynumber + anothernumber"
   ]
  },
  {
   "cell_type": "code",
   "execution_count": 4,
   "id": "12537a3b",
   "metadata": {},
   "outputs": [],
   "source": [
    "addednumber = mynumber + anothernumber"
   ]
  },
  {
   "cell_type": "code",
   "execution_count": 5,
   "id": "5b0ba341",
   "metadata": {},
   "outputs": [],
   "source": [
    "def addfunction(x, y):\n",
    "    # run addition operation\n",
    "    z = x + y\n",
    "    return z"
   ]
  },
  {
   "cell_type": "code",
   "execution_count": 6,
   "id": "3b591b19",
   "metadata": {},
   "outputs": [
    {
     "data": {
      "text/plain": [
       "12"
      ]
     },
     "execution_count": 6,
     "metadata": {},
     "output_type": "execute_result"
    }
   ],
   "source": [
    "addfunction(mynumber, anothernumber)"
   ]
  },
  {
   "cell_type": "code",
   "execution_count": 7,
   "id": "c6110d7d",
   "metadata": {},
   "outputs": [],
   "source": [
    "addednumber = addfunction(mynumber, anothernumber)"
   ]
  },
  {
   "cell_type": "code",
   "execution_count": 8,
   "id": "d664ede1",
   "metadata": {},
   "outputs": [
    {
     "data": {
      "text/plain": [
       "12"
      ]
     },
     "execution_count": 8,
     "metadata": {},
     "output_type": "execute_result"
    }
   ],
   "source": [
    "addednumber"
   ]
  },
  {
   "cell_type": "markdown",
   "id": "1fe50500",
   "metadata": {},
   "source": [
    "# Datastructures and Looping"
   ]
  },
  {
   "cell_type": "code",
   "execution_count": 9,
   "id": "7a005149",
   "metadata": {},
   "outputs": [],
   "source": [
    "mylist = [1, 2, 3, 4]"
   ]
  },
  {
   "cell_type": "code",
   "execution_count": 44,
   "id": "a8383cc3",
   "metadata": {},
   "outputs": [],
   "source": [
    "alist = []\n",
    "for i in mylist:\n",
    "    j = addfunction(i, 2)\n",
    "    alist.append(j)"
   ]
  },
  {
   "cell_type": "code",
   "execution_count": 45,
   "id": "a3ade6ca",
   "metadata": {},
   "outputs": [
    {
     "data": {
      "text/plain": [
       "[3, 4, 5, 6]"
      ]
     },
     "execution_count": 45,
     "metadata": {},
     "output_type": "execute_result"
    }
   ],
   "source": [
    "alist"
   ]
  },
  {
   "cell_type": "code",
   "execution_count": 11,
   "id": "ce0fbfc4",
   "metadata": {},
   "outputs": [
    {
     "data": {
      "text/plain": [
       "3"
      ]
     },
     "execution_count": 11,
     "metadata": {},
     "output_type": "execute_result"
    }
   ],
   "source": [
    "mylist[2]"
   ]
  },
  {
   "cell_type": "code",
   "execution_count": 12,
   "id": "f573b0d6",
   "metadata": {},
   "outputs": [],
   "source": [
    "mydict = {\"name1\": \"A\", \"name2\": \"B\", \"name3\": \"C\"}"
   ]
  },
  {
   "cell_type": "code",
   "execution_count": 13,
   "id": "c31fd09b",
   "metadata": {},
   "outputs": [
    {
     "data": {
      "text/plain": [
       "'B'"
      ]
     },
     "execution_count": 13,
     "metadata": {},
     "output_type": "execute_result"
    }
   ],
   "source": [
    "mydict[\"name2\"]"
   ]
  },
  {
   "cell_type": "code",
   "execution_count": 14,
   "id": "48875552",
   "metadata": {},
   "outputs": [],
   "source": [
    "namelist = [\"name1\", \"name2\", \"name3\", \"name4\"]\n",
    "gradelist = [\"A\", \"B\", \"C\", \"D\"]"
   ]
  },
  {
   "cell_type": "code",
   "execution_count": 15,
   "id": "647be48d",
   "metadata": {},
   "outputs": [
    {
     "data": {
      "text/plain": [
       "'B'"
      ]
     },
     "execution_count": 15,
     "metadata": {},
     "output_type": "execute_result"
    }
   ],
   "source": [
    "gradelist[1]"
   ]
  },
  {
   "cell_type": "code",
   "execution_count": 16,
   "id": "57f95410",
   "metadata": {},
   "outputs": [
    {
     "name": "stdout",
     "output_type": "stream",
     "text": [
      "B\n"
     ]
    }
   ],
   "source": [
    "for pos,student in enumerate(namelist):\n",
    "    if student == \"name2\":\n",
    "        print(gradelist[pos])"
   ]
  },
  {
   "cell_type": "code",
   "execution_count": 42,
   "id": "845e7d11",
   "metadata": {
    "scrolled": true
   },
   "outputs": [
    {
     "name": "stdout",
     "output_type": "stream",
     "text": [
      "A\n",
      "B\n",
      "C\n",
      "D\n"
     ]
    }
   ],
   "source": [
    "for pos,student in enumerate(namelist):\n",
    "        print(gradelist[pos])"
   ]
  },
  {
   "cell_type": "code",
   "execution_count": 43,
   "id": "2058d16a",
   "metadata": {},
   "outputs": [
    {
     "name": "stdout",
     "output_type": "stream",
     "text": [
      "['A', 'B', 'C', 'D']\n"
     ]
    }
   ],
   "source": [
    "print(gradelist)"
   ]
  },
  {
   "cell_type": "markdown",
   "id": "dfc807bc",
   "metadata": {},
   "source": [
    "# In-built python functions\n",
    "\n",
    "print, type, enumerate"
   ]
  },
  {
   "cell_type": "markdown",
   "id": "3b59e86e",
   "metadata": {},
   "source": [
    "# In-built modules"
   ]
  },
  {
   "cell_type": "code",
   "execution_count": 17,
   "id": "78159a94",
   "metadata": {},
   "outputs": [],
   "source": [
    "import requests\n",
    "import json"
   ]
  },
  {
   "cell_type": "code",
   "execution_count": 18,
   "id": "a4a1cff9",
   "metadata": {},
   "outputs": [
    {
     "name": "stdout",
     "output_type": "stream",
     "text": [
      "<!DOCTYPE html>\n",
      "<html>\n",
      "<body>\n",
      "\n",
      "<h1>This is a Test Page</h1>\n",
      "\n",
      "</body>\n",
      "</html>\n"
     ]
    }
   ],
   "source": [
    "x = requests.get('https://w3schools.com/python/demopage.htm')\n",
    "print(x.text)"
   ]
  },
  {
   "cell_type": "markdown",
   "id": "4dc0092f",
   "metadata": {},
   "source": [
    "# OLIDA Oligogenic Combinations To Diseases: OLI001"
   ]
  },
  {
   "cell_type": "code",
   "execution_count": 231,
   "id": "42d47244",
   "metadata": {},
   "outputs": [],
   "source": [
    "x = requests.get('https://olida.ibsquare.be/api/combinations/OLI001/diseases/')"
   ]
  },
  {
   "cell_type": "code",
   "execution_count": 232,
   "id": "e7255c9a",
   "metadata": {},
   "outputs": [
    {
     "name": "stdout",
     "output_type": "stream",
     "text": [
      "{\"errors\":[{\"detail\":\"Request was throttled. Expected available in 896 seconds.\",\"source\":{\"pointer\":\"/data\"},\"status\":\"429\"}]}\n"
     ]
    }
   ],
   "source": [
    "print(x.text)"
   ]
  },
  {
   "cell_type": "code",
   "execution_count": 21,
   "id": "e9e8c3ea",
   "metadata": {},
   "outputs": [],
   "source": [
    "combo_dict = json.loads(x.text)"
   ]
  },
  {
   "cell_type": "code",
   "execution_count": 22,
   "id": "c4bc60c9",
   "metadata": {},
   "outputs": [
    {
     "data": {
      "text/plain": [
       "'Hereditary coproporphyria'"
      ]
     },
     "execution_count": 22,
     "metadata": {},
     "output_type": "execute_result"
    }
   ],
   "source": [
    "combo_dict[\"data\"][0][\"attributes\"][\"disease_name\"]"
   ]
  },
  {
   "cell_type": "code",
   "execution_count": 24,
   "id": "d2daefa4",
   "metadata": {},
   "outputs": [],
   "source": [
    "x = requests.get('https://olida.ibsquare.be/api/combinations/OLI001/diseases/')"
   ]
  },
  {
   "cell_type": "markdown",
   "id": "d3600368",
   "metadata": {},
   "source": [
    "# OLIDA Oligogenic Combinations To Diseases: OLI002"
   ]
  },
  {
   "cell_type": "code",
   "execution_count": 25,
   "id": "2b536b47",
   "metadata": {},
   "outputs": [],
   "source": [
    "import requests\n",
    "import json"
   ]
  },
  {
   "cell_type": "code",
   "execution_count": 26,
   "id": "98f519dc",
   "metadata": {},
   "outputs": [
    {
     "data": {
      "text/plain": [
       "'Idiopathic pulmonary arterial hypertension'"
      ]
     },
     "execution_count": 26,
     "metadata": {},
     "output_type": "execute_result"
    }
   ],
   "source": [
    "x = requests.get('https://olida.ibsquare.be/api/combinations/OLI002/diseases/')\n",
    "combo_dict = json.loads(x.text)\n",
    "combo_dict[\"data\"][0][\"attributes\"][\"disease_name\"]"
   ]
  },
  {
   "cell_type": "markdown",
   "id": "8702f51d",
   "metadata": {},
   "source": [
    "# OLIDA Oligogenic Combinations To Diseases Var. Test"
   ]
  },
  {
   "cell_type": "code",
   "execution_count": 39,
   "id": "1dc067c8",
   "metadata": {},
   "outputs": [],
   "source": [
    "combo = \"OLI007\""
   ]
  },
  {
   "cell_type": "code",
   "execution_count": 40,
   "id": "3c222fde",
   "metadata": {},
   "outputs": [],
   "source": [
    "x = requests.get(f'https://olida.ibsquare.be/api/combinations/{combo}/diseases/')"
   ]
  },
  {
   "cell_type": "code",
   "execution_count": 41,
   "id": "2cfeaf1a",
   "metadata": {},
   "outputs": [
    {
     "name": "stdout",
     "output_type": "stream",
     "text": [
      "{\"data\":[{\"type\":\"Disease\",\"id\":\"2515\",\"attributes\":{\"omim_ids\":[\"OMIM251220\",\"OMIM256370\",\"OMIM301028\",\"OMIM600995\",\"OMIM603278\",\"OMIM603965\",\"OMIM607832\",\"OMIM610725\",\"OMIM612551\",\"OMIM613237\",\"OMIM614131\",\"OMIM614196\",\"OMIM615244\",\"OMIM615573\",\"OMIM615861\",\"OMIM616002\",\"OMIM616032\",\"OMIM616220\",\"OMIM616730\",\"OMIM616892\",\"OMIM616893\",\"OMIM618176\",\"OMIM618177\",\"OMIM618178\",\"OMIM618179\",\"OMIM619201\"],\"status\":\"CU\",\"disease_name\":\"Microcephaly-cardiomyopathy syndrome\",\"icd10_category\":\"Congenital malformations, deformations and chromosomal abnormalities\",\"icd10_specificid\":\"Q87.8\",\"lastmodified\":\"2021-10-18T11:00:45.019199\"},\"relationships\":{\"combination_set\":{\"meta\":{\"count\":1},\"data\":[{\"type\":\"Combination\",\"id\":\"OLI007\"}],\"links\":{\"self\":\"https://olida.ibsquare.be/api/diseases/2515/relationships/combination_set\",\"related\":\"https://olida.ibsquare.be/api/diseases/2515/combinations/\"}}},\"links\":{\"self\":\"https://olida.ibsquare.be/api/diseases/2515/\"}},{\"type\":\"Disease\",\"id\":\"656\",\"attributes\":{\"omim_ids\":[\"OMIM251220\",\"OMIM256370\",\"OMIM301028\",\"OMIM600995\",\"OMIM603278\",\"OMIM603965\",\"OMIM607832\",\"OMIM610725\",\"OMIM612551\",\"OMIM613237\",\"OMIM614131\",\"OMIM614196\",\"OMIM615244\",\"OMIM615573\",\"OMIM615861\",\"OMIM616002\",\"OMIM616032\",\"OMIM616220\",\"OMIM616730\",\"OMIM616892\",\"OMIM616893\",\"OMIM618176\",\"OMIM618177\",\"OMIM618178\",\"OMIM618179\",\"OMIM619201\"],\"status\":\"CU\",\"disease_name\":\"Genetic steroid-resistant nephrotic syndrome\",\"icd10_category\":\"Diseases of the genitourinary system\",\"icd10_specificid\":\"N04\",\"lastmodified\":\"2021-10-18T11:00:45.020113\"},\"relationships\":{\"combination_set\":{\"meta\":{\"count\":4},\"data\":[{\"type\":\"Combination\",\"id\":\"OLI007\"},{\"type\":\"Combination\",\"id\":\"OLI320\"},{\"type\":\"Combination\",\"id\":\"OLI321\"},{\"type\":\"Combination\",\"id\":\"OLI501\"}],\"links\":{\"self\":\"https://olida.ibsquare.be/api/diseases/656/relationships/combination_set\",\"related\":\"https://olida.ibsquare.be/api/diseases/656/combinations/\"}}},\"links\":{\"self\":\"https://olida.ibsquare.be/api/diseases/656/\"}}],\"meta\":{\"database_name\":\"OLIgogenic diseases DAtabase (OLIDA)\",\"resource_url\":\"olida.ibsquare.be\",\"api_release_year\":\"2021\",\"api_developer\":[[\"Arnau Dillen\",\"arnau.dillen@ulb.ac.be\"],[\"Charlotte Nachtegael\",\"charlotte.nachtegael@ulb.be\"]],\"api_version\":\"0.3\",\"api_maintainers\":[[\"Charlotte Nachtegael\",\"charlotte.nachtegael@ulb.be\"]],\"api_documentation\":[\"olida.ibsquare.be/api/swagger\",\"olida.ibsquare.be/api/redoc\"],\"copyright\":\"Copyright (c) 2023 · OLIDA All Rights Reserved.\",\"license\":\"CC Attribution-NonCommercial 4.0 International License\",\"ontologies\":{\"ORDO\":\"http://bioportal.bioontology.org/ontologies/ORDO\",\"GENO\":\"http://purl.obolibrary.org/obo/geno.owl\",\"MI\":\"http://purl.obolibrary.org/obo/mi.owl\",\"NCIT\":\"http://purl.obolibrary.org/obo/ncit.owl\",\"OGI\":\"http://purl.obolibrary.org/obo/ogi.owl\",\"OGG\":\"http://purl.obolibrary.org/obo/ogg.owl\"},\"relevant_publications_doi\":[\"10.1093/nar/gkv1068\",\"10.1093/database/baac023\"],\"size\":2}}\n"
     ]
    }
   ],
   "source": [
    "print(x.text)"
   ]
  },
  {
   "cell_type": "code",
   "execution_count": 50,
   "id": "11d56224",
   "metadata": {},
   "outputs": [
    {
     "data": {
      "text/plain": [
       "'Microcephaly-cardiomyopathy syndrome'"
      ]
     },
     "execution_count": 50,
     "metadata": {},
     "output_type": "execute_result"
    }
   ],
   "source": [
    "combo_dict = json.loads(x.text)\n",
    "combo_dict[\"data\"][0][\"attributes\"][\"disease_name\"]"
   ]
  },
  {
   "cell_type": "code",
   "execution_count": 53,
   "id": "c83072ea",
   "metadata": {},
   "outputs": [
    {
     "data": {
      "text/plain": [
       "[{'type': 'Disease',\n",
       "  'id': '2515',\n",
       "  'attributes': {'omim_ids': ['OMIM251220',\n",
       "    'OMIM256370',\n",
       "    'OMIM301028',\n",
       "    'OMIM600995',\n",
       "    'OMIM603278',\n",
       "    'OMIM603965',\n",
       "    'OMIM607832',\n",
       "    'OMIM610725',\n",
       "    'OMIM612551',\n",
       "    'OMIM613237',\n",
       "    'OMIM614131',\n",
       "    'OMIM614196',\n",
       "    'OMIM615244',\n",
       "    'OMIM615573',\n",
       "    'OMIM615861',\n",
       "    'OMIM616002',\n",
       "    'OMIM616032',\n",
       "    'OMIM616220',\n",
       "    'OMIM616730',\n",
       "    'OMIM616892',\n",
       "    'OMIM616893',\n",
       "    'OMIM618176',\n",
       "    'OMIM618177',\n",
       "    'OMIM618178',\n",
       "    'OMIM618179',\n",
       "    'OMIM619201'],\n",
       "   'status': 'CU',\n",
       "   'disease_name': 'Microcephaly-cardiomyopathy syndrome',\n",
       "   'icd10_category': 'Congenital malformations, deformations and chromosomal abnormalities',\n",
       "   'icd10_specificid': 'Q87.8',\n",
       "   'lastmodified': '2021-10-18T11:00:45.019199'},\n",
       "  'relationships': {'combination_set': {'meta': {'count': 1},\n",
       "    'data': [{'type': 'Combination', 'id': 'OLI007'}],\n",
       "    'links': {'self': 'https://olida.ibsquare.be/api/diseases/2515/relationships/combination_set',\n",
       "     'related': 'https://olida.ibsquare.be/api/diseases/2515/combinations/'}}},\n",
       "  'links': {'self': 'https://olida.ibsquare.be/api/diseases/2515/'}},\n",
       " {'type': 'Disease',\n",
       "  'id': '656',\n",
       "  'attributes': {'omim_ids': ['OMIM251220',\n",
       "    'OMIM256370',\n",
       "    'OMIM301028',\n",
       "    'OMIM600995',\n",
       "    'OMIM603278',\n",
       "    'OMIM603965',\n",
       "    'OMIM607832',\n",
       "    'OMIM610725',\n",
       "    'OMIM612551',\n",
       "    'OMIM613237',\n",
       "    'OMIM614131',\n",
       "    'OMIM614196',\n",
       "    'OMIM615244',\n",
       "    'OMIM615573',\n",
       "    'OMIM615861',\n",
       "    'OMIM616002',\n",
       "    'OMIM616032',\n",
       "    'OMIM616220',\n",
       "    'OMIM616730',\n",
       "    'OMIM616892',\n",
       "    'OMIM616893',\n",
       "    'OMIM618176',\n",
       "    'OMIM618177',\n",
       "    'OMIM618178',\n",
       "    'OMIM618179',\n",
       "    'OMIM619201'],\n",
       "   'status': 'CU',\n",
       "   'disease_name': 'Genetic steroid-resistant nephrotic syndrome',\n",
       "   'icd10_category': 'Diseases of the genitourinary system',\n",
       "   'icd10_specificid': 'N04',\n",
       "   'lastmodified': '2021-10-18T11:00:45.020113'},\n",
       "  'relationships': {'combination_set': {'meta': {'count': 4},\n",
       "    'data': [{'type': 'Combination', 'id': 'OLI007'},\n",
       "     {'type': 'Combination', 'id': 'OLI320'},\n",
       "     {'type': 'Combination', 'id': 'OLI321'},\n",
       "     {'type': 'Combination', 'id': 'OLI501'}],\n",
       "    'links': {'self': 'https://olida.ibsquare.be/api/diseases/656/relationships/combination_set',\n",
       "     'related': 'https://olida.ibsquare.be/api/diseases/656/combinations/'}}},\n",
       "  'links': {'self': 'https://olida.ibsquare.be/api/diseases/656/'}}]"
      ]
     },
     "execution_count": 53,
     "metadata": {},
     "output_type": "execute_result"
    }
   ],
   "source": [
    "combo_dict[\"data\"]"
   ]
  },
  {
   "cell_type": "code",
   "execution_count": 54,
   "id": "6bb00706",
   "metadata": {},
   "outputs": [
    {
     "data": {
      "text/plain": [
       "dict_keys(['data', 'meta'])"
      ]
     },
     "execution_count": 54,
     "metadata": {},
     "output_type": "execute_result"
    }
   ],
   "source": [
    "combo_dict.keys()"
   ]
  },
  {
   "cell_type": "markdown",
   "id": "a8690386",
   "metadata": {},
   "source": [
    "# OLIDA Oligogenic Combinations To Diseases Function"
   ]
  },
  {
   "cell_type": "code",
   "execution_count": 246,
   "id": "b24a22ea",
   "metadata": {},
   "outputs": [],
   "source": [
    "def get_disease_name(combo):\n",
    "    x = requests.get(f'https://olida.ibsquare.be/api/combinations/{combo}/diseases/')\n",
    "    combo_dict = json.loads(x.text)\n",
    "    diseases = []\n",
    "    for dict_i in combo_dict[\"data\"]:\n",
    "        y = dict_i[\"attributes\"][\"disease_name\"]\n",
    "        diseases.append(y)\n",
    "    return diseases"
   ]
  },
  {
   "cell_type": "code",
   "execution_count": 234,
   "id": "fc50729a",
   "metadata": {},
   "outputs": [
    {
     "data": {
      "text/plain": [
       "['Hereditary coproporphyria']"
      ]
     },
     "execution_count": 234,
     "metadata": {},
     "output_type": "execute_result"
    }
   ],
   "source": [
    "get_disease_name(\"OLI001\")"
   ]
  },
  {
   "cell_type": "code",
   "execution_count": 48,
   "id": "add4a8aa",
   "metadata": {},
   "outputs": [
    {
     "data": {
      "text/plain": [
       "['Idiopathic pulmonary arterial hypertension']"
      ]
     },
     "execution_count": 48,
     "metadata": {},
     "output_type": "execute_result"
    }
   ],
   "source": [
    "get_disease_name(\"OLI002\")"
   ]
  },
  {
   "cell_type": "code",
   "execution_count": 49,
   "id": "26e216d7",
   "metadata": {},
   "outputs": [
    {
     "data": {
      "text/plain": [
       "['Microcephaly-cardiomyopathy syndrome',\n",
       " 'Genetic steroid-resistant nephrotic syndrome']"
      ]
     },
     "execution_count": 49,
     "metadata": {},
     "output_type": "execute_result"
    }
   ],
   "source": [
    "get_disease_name(\"OLI007\")"
   ]
  },
  {
   "cell_type": "markdown",
   "id": "bc1a6815",
   "metadata": {},
   "source": [
    "# OLIDA Oligogenic Combinations To Disease ICD Function"
   ]
  },
  {
   "cell_type": "code",
   "execution_count": 245,
   "id": "63538d6b",
   "metadata": {},
   "outputs": [],
   "source": [
    "def get_disease_icd(combo):\n",
    "    x = requests.get(f'https://olida.ibsquare.be/api/combinations/{combo}/diseases/')\n",
    "    combo_dict = json.loads(x.text)\n",
    "    icd = []\n",
    "    for dict_i in combo_dict[\"data\"]:\n",
    "        y = dict_i[\"attributes\"][\"icd10_specificid\"]\n",
    "        icd.append(y)\n",
    "    return icd"
   ]
  },
  {
   "cell_type": "code",
   "execution_count": 168,
   "id": "e1b75048",
   "metadata": {},
   "outputs": [
    {
     "data": {
      "text/plain": [
       "['E80.2']"
      ]
     },
     "execution_count": 168,
     "metadata": {},
     "output_type": "execute_result"
    }
   ],
   "source": [
    "get_disease_icd(\"OLI001\")"
   ]
  },
  {
   "cell_type": "code",
   "execution_count": 169,
   "id": "5b6a2ebb",
   "metadata": {},
   "outputs": [
    {
     "data": {
      "text/plain": [
       "['I27.0']"
      ]
     },
     "execution_count": 169,
     "metadata": {},
     "output_type": "execute_result"
    }
   ],
   "source": [
    "get_disease_icd(\"OLI002\")"
   ]
  },
  {
   "cell_type": "markdown",
   "id": "13af7a25",
   "metadata": {},
   "source": [
    "# OLIDA Genes To Oligogenic Combinations: ABCA7"
   ]
  },
  {
   "cell_type": "code",
   "execution_count": 58,
   "id": "2ef26ea8",
   "metadata": {},
   "outputs": [],
   "source": [
    "x = requests.get('https://olida.ibsquare.be/api/genes/ABCA7/genecombinations/')"
   ]
  },
  {
   "cell_type": "code",
   "execution_count": 59,
   "id": "3407b5cf",
   "metadata": {
    "scrolled": true
   },
   "outputs": [
    {
     "name": "stdout",
     "output_type": "stream",
     "text": [
      "{\"data\":[{\"type\":\"GeneCombination\",\"id\":\"569\",\"attributes\":{\"gene_relationship\":[\"Relevant pathways for phenotype\"],\"protein_interactions\":[],\"common_pathways\":[],\"genecomb_metascore\":0,\"lastmodified\":\"2021-10-18T11:01:16.687445\"},\"relationships\":{\"combination_set\":{\"meta\":{\"count\":2},\"data\":[{\"type\":\"Combination\",\"id\":\"OLI787\"},{\"type\":\"Combination\",\"id\":\"OLI788\"}],\"links\":{\"self\":\"https://olida.ibsquare.be/api/genecombinations/569/relationships/combination_set\",\"related\":\"https://olida.ibsquare.be/api/genecombinations/569/combinations/\"}},\"genes\":{\"meta\":{\"count\":3},\"data\":[{\"type\":\"Gene\",\"id\":\"ABCA7\"},{\"type\":\"Gene\",\"id\":\"ADNP\"},{\"type\":\"Gene\",\"id\":\"COL6A3\"}],\"links\":{\"self\":\"https://olida.ibsquare.be/api/genecombinations/569/relationships/genes\",\"related\":\"https://olida.ibsquare.be/api/genecombinations/569/genes/\"}}},\"links\":{\"self\":\"https://olida.ibsquare.be/api/genecombinations/569/\"}},{\"type\":\"GeneCombination\",\"id\":\"579\",\"attributes\":{\"gene_relationship\":[\"Involved in the same disease\",\"Relevant pathways for phenotype\"],\"protein_interactions\":[],\"common_pathways\":[],\"genecomb_metascore\":0,\"lastmodified\":\"2021-10-18T11:01:17.185641\"},\"relationships\":{\"combination_set\":{\"meta\":{\"count\":1},\"data\":[{\"type\":\"Combination\",\"id\":\"OLI799\"}],\"links\":{\"self\":\"https://olida.ibsquare.be/api/genecombinations/579/relationships/combination_set\",\"related\":\"https://olida.ibsquare.be/api/genecombinations/579/combinations/\"}},\"genes\":{\"meta\":{\"count\":3},\"data\":[{\"type\":\"Gene\",\"id\":\"ABCA7\"},{\"type\":\"Gene\",\"id\":\"SPEG\"},{\"type\":\"Gene\",\"id\":\"TPM2\"}],\"links\":{\"self\":\"https://olida.ibsquare.be/api/genecombinations/579/relationships/genes\",\"related\":\"https://olida.ibsquare.be/api/genecombinations/579/genes/\"}}},\"links\":{\"self\":\"https://olida.ibsquare.be/api/genecombinations/579/\"}}]}\n"
     ]
    }
   ],
   "source": [
    "print(x.text)"
   ]
  },
  {
   "cell_type": "code",
   "execution_count": 61,
   "id": "bde9a11e",
   "metadata": {},
   "outputs": [],
   "source": [
    "gene_dict = json.loads(x.text)"
   ]
  },
  {
   "cell_type": "code",
   "execution_count": 62,
   "id": "013fc30a",
   "metadata": {},
   "outputs": [
    {
     "data": {
      "text/plain": [
       "dict_keys(['data'])"
      ]
     },
     "execution_count": 62,
     "metadata": {},
     "output_type": "execute_result"
    }
   ],
   "source": [
    "gene_dict.keys()"
   ]
  },
  {
   "cell_type": "code",
   "execution_count": 227,
   "id": "0144f2b8",
   "metadata": {
    "scrolled": true
   },
   "outputs": [
    {
     "data": {
      "text/plain": [
       "[{'type': 'GeneCombination',\n",
       "  'id': '569',\n",
       "  'attributes': {'gene_relationship': ['Relevant pathways for phenotype'],\n",
       "   'protein_interactions': [],\n",
       "   'common_pathways': [],\n",
       "   'genecomb_metascore': 0,\n",
       "   'lastmodified': '2021-10-18T11:01:16.687445'},\n",
       "  'relationships': {'combination_set': {'meta': {'count': 2},\n",
       "    'data': [{'type': 'Combination', 'id': 'OLI787'},\n",
       "     {'type': 'Combination', 'id': 'OLI788'}],\n",
       "    'links': {'self': 'https://olida.ibsquare.be/api/genecombinations/569/relationships/combination_set',\n",
       "     'related': 'https://olida.ibsquare.be/api/genecombinations/569/combinations/'}},\n",
       "   'genes': {'meta': {'count': 3},\n",
       "    'data': [{'type': 'Gene', 'id': 'ABCA7'},\n",
       "     {'type': 'Gene', 'id': 'ADNP'},\n",
       "     {'type': 'Gene', 'id': 'COL6A3'}],\n",
       "    'links': {'self': 'https://olida.ibsquare.be/api/genecombinations/569/relationships/genes',\n",
       "     'related': 'https://olida.ibsquare.be/api/genecombinations/569/genes/'}}},\n",
       "  'links': {'self': 'https://olida.ibsquare.be/api/genecombinations/569/'}},\n",
       " {'type': 'GeneCombination',\n",
       "  'id': '579',\n",
       "  'attributes': {'gene_relationship': ['Involved in the same disease',\n",
       "    'Relevant pathways for phenotype'],\n",
       "   'protein_interactions': [],\n",
       "   'common_pathways': [],\n",
       "   'genecomb_metascore': 0,\n",
       "   'lastmodified': '2021-10-18T11:01:17.185641'},\n",
       "  'relationships': {'combination_set': {'meta': {'count': 1},\n",
       "    'data': [{'type': 'Combination', 'id': 'OLI799'}],\n",
       "    'links': {'self': 'https://olida.ibsquare.be/api/genecombinations/579/relationships/combination_set',\n",
       "     'related': 'https://olida.ibsquare.be/api/genecombinations/579/combinations/'}},\n",
       "   'genes': {'meta': {'count': 3},\n",
       "    'data': [{'type': 'Gene', 'id': 'ABCA7'},\n",
       "     {'type': 'Gene', 'id': 'SPEG'},\n",
       "     {'type': 'Gene', 'id': 'TPM2'}],\n",
       "    'links': {'self': 'https://olida.ibsquare.be/api/genecombinations/579/relationships/genes',\n",
       "     'related': 'https://olida.ibsquare.be/api/genecombinations/579/genes/'}}},\n",
       "  'links': {'self': 'https://olida.ibsquare.be/api/genecombinations/579/'}}]"
      ]
     },
     "execution_count": 227,
     "metadata": {},
     "output_type": "execute_result"
    }
   ],
   "source": [
    "gene_dict[\"data\"]"
   ]
  },
  {
   "cell_type": "code",
   "execution_count": 66,
   "id": "ea8c0841",
   "metadata": {
    "scrolled": false
   },
   "outputs": [
    {
     "data": {
      "text/plain": [
       "dict_values([[{'type': 'GeneCombination', 'id': '569', 'attributes': {'gene_relationship': ['Relevant pathways for phenotype'], 'protein_interactions': [], 'common_pathways': [], 'genecomb_metascore': 0, 'lastmodified': '2021-10-18T11:01:16.687445'}, 'relationships': {'combination_set': {'meta': {'count': 2}, 'data': [{'type': 'Combination', 'id': 'OLI787'}, {'type': 'Combination', 'id': 'OLI788'}], 'links': {'self': 'https://olida.ibsquare.be/api/genecombinations/569/relationships/combination_set', 'related': 'https://olida.ibsquare.be/api/genecombinations/569/combinations/'}}, 'genes': {'meta': {'count': 3}, 'data': [{'type': 'Gene', 'id': 'ABCA7'}, {'type': 'Gene', 'id': 'ADNP'}, {'type': 'Gene', 'id': 'COL6A3'}], 'links': {'self': 'https://olida.ibsquare.be/api/genecombinations/569/relationships/genes', 'related': 'https://olida.ibsquare.be/api/genecombinations/569/genes/'}}}, 'links': {'self': 'https://olida.ibsquare.be/api/genecombinations/569/'}}, {'type': 'GeneCombination', 'id': '579', 'attributes': {'gene_relationship': ['Involved in the same disease', 'Relevant pathways for phenotype'], 'protein_interactions': [], 'common_pathways': [], 'genecomb_metascore': 0, 'lastmodified': '2021-10-18T11:01:17.185641'}, 'relationships': {'combination_set': {'meta': {'count': 1}, 'data': [{'type': 'Combination', 'id': 'OLI799'}], 'links': {'self': 'https://olida.ibsquare.be/api/genecombinations/579/relationships/combination_set', 'related': 'https://olida.ibsquare.be/api/genecombinations/579/combinations/'}}, 'genes': {'meta': {'count': 3}, 'data': [{'type': 'Gene', 'id': 'ABCA7'}, {'type': 'Gene', 'id': 'SPEG'}, {'type': 'Gene', 'id': 'TPM2'}], 'links': {'self': 'https://olida.ibsquare.be/api/genecombinations/579/relationships/genes', 'related': 'https://olida.ibsquare.be/api/genecombinations/579/genes/'}}}, 'links': {'self': 'https://olida.ibsquare.be/api/genecombinations/579/'}}]])"
      ]
     },
     "execution_count": 66,
     "metadata": {},
     "output_type": "execute_result"
    }
   ],
   "source": [
    "gene_dict.values()"
   ]
  },
  {
   "cell_type": "code",
   "execution_count": 68,
   "id": "67743e2a",
   "metadata": {},
   "outputs": [
    {
     "data": {
      "text/plain": [
       "{'type': 'GeneCombination',\n",
       " 'id': '569',\n",
       " 'attributes': {'gene_relationship': ['Relevant pathways for phenotype'],\n",
       "  'protein_interactions': [],\n",
       "  'common_pathways': [],\n",
       "  'genecomb_metascore': 0,\n",
       "  'lastmodified': '2021-10-18T11:01:16.687445'},\n",
       " 'relationships': {'combination_set': {'meta': {'count': 2},\n",
       "   'data': [{'type': 'Combination', 'id': 'OLI787'},\n",
       "    {'type': 'Combination', 'id': 'OLI788'}],\n",
       "   'links': {'self': 'https://olida.ibsquare.be/api/genecombinations/569/relationships/combination_set',\n",
       "    'related': 'https://olida.ibsquare.be/api/genecombinations/569/combinations/'}},\n",
       "  'genes': {'meta': {'count': 3},\n",
       "   'data': [{'type': 'Gene', 'id': 'ABCA7'},\n",
       "    {'type': 'Gene', 'id': 'ADNP'},\n",
       "    {'type': 'Gene', 'id': 'COL6A3'}],\n",
       "   'links': {'self': 'https://olida.ibsquare.be/api/genecombinations/569/relationships/genes',\n",
       "    'related': 'https://olida.ibsquare.be/api/genecombinations/569/genes/'}}},\n",
       " 'links': {'self': 'https://olida.ibsquare.be/api/genecombinations/569/'}}"
      ]
     },
     "execution_count": 68,
     "metadata": {},
     "output_type": "execute_result"
    }
   ],
   "source": [
    "gene_dict[\"data\"][0]"
   ]
  },
  {
   "cell_type": "code",
   "execution_count": 69,
   "id": "107859f3",
   "metadata": {},
   "outputs": [
    {
     "data": {
      "text/plain": [
       "{'type': 'GeneCombination',\n",
       " 'id': '579',\n",
       " 'attributes': {'gene_relationship': ['Involved in the same disease',\n",
       "   'Relevant pathways for phenotype'],\n",
       "  'protein_interactions': [],\n",
       "  'common_pathways': [],\n",
       "  'genecomb_metascore': 0,\n",
       "  'lastmodified': '2021-10-18T11:01:17.185641'},\n",
       " 'relationships': {'combination_set': {'meta': {'count': 1},\n",
       "   'data': [{'type': 'Combination', 'id': 'OLI799'}],\n",
       "   'links': {'self': 'https://olida.ibsquare.be/api/genecombinations/579/relationships/combination_set',\n",
       "    'related': 'https://olida.ibsquare.be/api/genecombinations/579/combinations/'}},\n",
       "  'genes': {'meta': {'count': 3},\n",
       "   'data': [{'type': 'Gene', 'id': 'ABCA7'},\n",
       "    {'type': 'Gene', 'id': 'SPEG'},\n",
       "    {'type': 'Gene', 'id': 'TPM2'}],\n",
       "   'links': {'self': 'https://olida.ibsquare.be/api/genecombinations/579/relationships/genes',\n",
       "    'related': 'https://olida.ibsquare.be/api/genecombinations/579/genes/'}}},\n",
       " 'links': {'self': 'https://olida.ibsquare.be/api/genecombinations/579/'}}"
      ]
     },
     "execution_count": 69,
     "metadata": {},
     "output_type": "execute_result"
    }
   ],
   "source": [
    "gene_dict[\"data\"][1]"
   ]
  },
  {
   "cell_type": "code",
   "execution_count": 70,
   "id": "e5d16386",
   "metadata": {},
   "outputs": [
    {
     "data": {
      "text/plain": [
       "{'combination_set': {'meta': {'count': 2},\n",
       "  'data': [{'type': 'Combination', 'id': 'OLI787'},\n",
       "   {'type': 'Combination', 'id': 'OLI788'}],\n",
       "  'links': {'self': 'https://olida.ibsquare.be/api/genecombinations/569/relationships/combination_set',\n",
       "   'related': 'https://olida.ibsquare.be/api/genecombinations/569/combinations/'}},\n",
       " 'genes': {'meta': {'count': 3},\n",
       "  'data': [{'type': 'Gene', 'id': 'ABCA7'},\n",
       "   {'type': 'Gene', 'id': 'ADNP'},\n",
       "   {'type': 'Gene', 'id': 'COL6A3'}],\n",
       "  'links': {'self': 'https://olida.ibsquare.be/api/genecombinations/569/relationships/genes',\n",
       "   'related': 'https://olida.ibsquare.be/api/genecombinations/569/genes/'}}}"
      ]
     },
     "execution_count": 70,
     "metadata": {},
     "output_type": "execute_result"
    }
   ],
   "source": [
    "gene_dict[\"data\"][0][\"relationships\"]"
   ]
  },
  {
   "cell_type": "code",
   "execution_count": 72,
   "id": "ef93a67a",
   "metadata": {},
   "outputs": [
    {
     "data": {
      "text/plain": [
       "{'meta': {'count': 2},\n",
       " 'data': [{'type': 'Combination', 'id': 'OLI787'},\n",
       "  {'type': 'Combination', 'id': 'OLI788'}],\n",
       " 'links': {'self': 'https://olida.ibsquare.be/api/genecombinations/569/relationships/combination_set',\n",
       "  'related': 'https://olida.ibsquare.be/api/genecombinations/569/combinations/'}}"
      ]
     },
     "execution_count": 72,
     "metadata": {},
     "output_type": "execute_result"
    }
   ],
   "source": [
    "gene_dict[\"data\"][0][\"relationships\"][\"combination_set\"]"
   ]
  },
  {
   "cell_type": "code",
   "execution_count": 73,
   "id": "f7b6a2db",
   "metadata": {},
   "outputs": [
    {
     "data": {
      "text/plain": [
       "[{'type': 'Combination', 'id': 'OLI787'},\n",
       " {'type': 'Combination', 'id': 'OLI788'}]"
      ]
     },
     "execution_count": 73,
     "metadata": {},
     "output_type": "execute_result"
    }
   ],
   "source": [
    "gene_dict[\"data\"][0][\"relationships\"][\"combination_set\"][\"data\"]"
   ]
  },
  {
   "cell_type": "code",
   "execution_count": 74,
   "id": "5c2a96e9",
   "metadata": {},
   "outputs": [
    {
     "data": {
      "text/plain": [
       "'OLI787'"
      ]
     },
     "execution_count": 74,
     "metadata": {},
     "output_type": "execute_result"
    }
   ],
   "source": [
    "gene_dict[\"data\"][0][\"relationships\"][\"combination_set\"][\"data\"][0][\"id\"]"
   ]
  },
  {
   "cell_type": "code",
   "execution_count": 75,
   "id": "35d2b986",
   "metadata": {},
   "outputs": [
    {
     "data": {
      "text/plain": [
       "'OLI788'"
      ]
     },
     "execution_count": 75,
     "metadata": {},
     "output_type": "execute_result"
    }
   ],
   "source": [
    "gene_dict[\"data\"][0][\"relationships\"][\"combination_set\"][\"data\"][1][\"id\"]"
   ]
  },
  {
   "cell_type": "code",
   "execution_count": 76,
   "id": "ee76d1ad",
   "metadata": {},
   "outputs": [
    {
     "data": {
      "text/plain": [
       "'OLI799'"
      ]
     },
     "execution_count": 76,
     "metadata": {},
     "output_type": "execute_result"
    }
   ],
   "source": [
    "gene_dict[\"data\"][1][\"relationships\"][\"combination_set\"][\"data\"][0][\"id\"]"
   ]
  },
  {
   "cell_type": "code",
   "execution_count": 161,
   "id": "47fd0467",
   "metadata": {},
   "outputs": [
    {
     "data": {
      "text/plain": [
       "{'meta': {'count': 3},\n",
       " 'data': [{'type': 'Gene', 'id': 'ABCA7'},\n",
       "  {'type': 'Gene', 'id': 'ADNP'},\n",
       "  {'type': 'Gene', 'id': 'COL6A3'}],\n",
       " 'links': {'self': 'https://olida.ibsquare.be/api/genecombinations/569/relationships/genes',\n",
       "  'related': 'https://olida.ibsquare.be/api/genecombinations/569/genes/'}}"
      ]
     },
     "execution_count": 161,
     "metadata": {},
     "output_type": "execute_result"
    }
   ],
   "source": [
    "gene_dict[\"data\"][0][\"relationships\"][\"genes\"]"
   ]
  },
  {
   "cell_type": "code",
   "execution_count": 162,
   "id": "a41e6ad0",
   "metadata": {},
   "outputs": [
    {
     "data": {
      "text/plain": [
       "[{'type': 'Gene', 'id': 'ABCA7'},\n",
       " {'type': 'Gene', 'id': 'ADNP'},\n",
       " {'type': 'Gene', 'id': 'COL6A3'}]"
      ]
     },
     "execution_count": 162,
     "metadata": {},
     "output_type": "execute_result"
    }
   ],
   "source": [
    "gene_dict[\"data\"][0][\"relationships\"][\"genes\"][\"data\"]"
   ]
  },
  {
   "cell_type": "code",
   "execution_count": 163,
   "id": "7d53e2c3",
   "metadata": {},
   "outputs": [
    {
     "data": {
      "text/plain": [
       "{'type': 'Gene', 'id': 'ABCA7'}"
      ]
     },
     "execution_count": 163,
     "metadata": {},
     "output_type": "execute_result"
    }
   ],
   "source": [
    "gene_dict[\"data\"][0][\"relationships\"][\"genes\"][\"data\"][0]"
   ]
  },
  {
   "cell_type": "code",
   "execution_count": 164,
   "id": "20830e50",
   "metadata": {},
   "outputs": [
    {
     "data": {
      "text/plain": [
       "'ABCA7'"
      ]
     },
     "execution_count": 164,
     "metadata": {},
     "output_type": "execute_result"
    }
   ],
   "source": [
    "gene_dict[\"data\"][0][\"relationships\"][\"genes\"][\"data\"][0][\"id\"]"
   ]
  },
  {
   "cell_type": "markdown",
   "id": "8cbf485c",
   "metadata": {},
   "source": [
    "# OLIDA Genes To Oligogenic Combinations Function"
   ]
  },
  {
   "cell_type": "code",
   "execution_count": 354,
   "id": "f401de1f",
   "metadata": {},
   "outputs": [],
   "source": [
    "import time"
   ]
  },
  {
   "cell_type": "code",
   "execution_count": 416,
   "id": "60b802c8",
   "metadata": {},
   "outputs": [],
   "source": [
    "def get_combo_name(gene):\n",
    "    x = requests.get(f'https://olida.ibsquare.be/api/genes/{gene}/genecombinations/')\n",
    "    gene_dict = json.loads(x.text)\n",
    "    combos = []\n",
    "    for dict_i in gene_dict[\"data\"]:\n",
    "        dict_i[\"relationships\"][\"combination_set\"][\"data\"]\n",
    "        for dict2_i in dict_i[\"relationships\"][\"combination_set\"][\"data\"]:\n",
    "            y = dict2_i[\"id\"]\n",
    "            combos.append(y)\n",
    "    return combos"
   ]
  },
  {
   "cell_type": "code",
   "execution_count": 406,
   "id": "f5fbd6ae",
   "metadata": {},
   "outputs": [],
   "source": [
    "def get_combo_name(gene):\n",
    "    x = requests.get(f'https://olida.ibsquare.be/api/genes/{gene}/genecombinations/')\n",
    "    if x.status_code==200:\n",
    "        gene_dict = json.loads(x.text)\n",
    "        combos = []\n",
    "        for dict_i in gene_dict[\"data\"]:\n",
    "            dict_i[\"relationships\"][\"combination_set\"][\"data\"]\n",
    "            for dict2_i in dict_i[\"relationships\"][\"combination_set\"][\"data\"]:\n",
    "                y = dict2_i[\"id\"]\n",
    "                combos.append(y)\n",
    "        return combos\n",
    "    else:\n",
    "        raise ValueError(f\"No response from api status code: {x.status_code}\")"
   ]
  },
  {
   "cell_type": "code",
   "execution_count": 410,
   "id": "8273bed2",
   "metadata": {},
   "outputs": [
    {
     "data": {
      "text/plain": [
       "['OLI935']"
      ]
     },
     "execution_count": 410,
     "metadata": {},
     "output_type": "execute_result"
    }
   ],
   "source": [
    "get_combo_name(\"ABCA13\")"
   ]
  },
  {
   "cell_type": "code",
   "execution_count": 299,
   "id": "b25968a7",
   "metadata": {},
   "outputs": [
    {
     "data": {
      "text/plain": [
       "'OLI1158'"
      ]
     },
     "execution_count": 299,
     "metadata": {},
     "output_type": "execute_result"
    }
   ],
   "source": [
    "get_combo_name(\"ACADS\")"
   ]
  },
  {
   "cell_type": "code",
   "execution_count": 417,
   "id": "caf6cd98",
   "metadata": {},
   "outputs": [
    {
     "data": {
      "text/plain": [
       "['OLI787', 'OLI788', 'OLI799']"
      ]
     },
     "execution_count": 417,
     "metadata": {},
     "output_type": "execute_result"
    }
   ],
   "source": [
    "get_combo_name(\"ABCA7\")"
   ]
  },
  {
   "cell_type": "markdown",
   "id": "3c2013ab",
   "metadata": {},
   "source": [
    "# OLIDA Genes to Partner Genes in Combinations"
   ]
  },
  {
   "cell_type": "code",
   "execution_count": 204,
   "id": "d7e5dfd0",
   "metadata": {},
   "outputs": [],
   "source": [
    "def get_partner_name(gene):\n",
    "    x = requests.get(f'https://olida.ibsquare.be/api/genes/{gene}/genecombinations/')\n",
    "    gene_dict = json.loads(x.text)\n",
    "    partners = []\n",
    "    for dict_i in gene_dict[\"data\"]:\n",
    "        dict_i[\"relationships\"][\"genes\"][\"data\"]\n",
    "        for dict_2i in dict_i[\"relationships\"][\"genes\"][\"data\"]:\n",
    "            y = dict_2i[\"id\"]\n",
    "            partners.append(y)\n",
    "        return partners"
   ]
  },
  {
   "cell_type": "code",
   "execution_count": 205,
   "id": "78d160f8",
   "metadata": {},
   "outputs": [
    {
     "data": {
      "text/plain": [
       "['ABCA7', 'ADNP', 'COL6A3']"
      ]
     },
     "execution_count": 205,
     "metadata": {},
     "output_type": "execute_result"
    }
   ],
   "source": [
    "get_partner_name('ADNP')"
   ]
  },
  {
   "cell_type": "code",
   "execution_count": 166,
   "id": "2ae71c83",
   "metadata": {},
   "outputs": [
    {
     "data": {
      "text/plain": [
       "['ABCA7', 'ADNP', 'COL6A3']"
      ]
     },
     "execution_count": 166,
     "metadata": {},
     "output_type": "execute_result"
    }
   ],
   "source": [
    "get_partner_name('ABCA7')"
   ]
  },
  {
   "cell_type": "markdown",
   "id": "6bfebce8",
   "metadata": {},
   "source": [
    "# OLIDA Combinations To Genes"
   ]
  },
  {
   "cell_type": "code",
   "execution_count": 123,
   "id": "a5807bf8",
   "metadata": {},
   "outputs": [],
   "source": [
    "x = requests.get('https://olida.ibsquare.be/api/combinations/OLI007/genecombinations/')"
   ]
  },
  {
   "cell_type": "code",
   "execution_count": 124,
   "id": "83362695",
   "metadata": {},
   "outputs": [
    {
     "name": "stdout",
     "output_type": "stream",
     "text": [
      "{\"data\":[{\"type\":\"GeneCombination\",\"id\":\"6\",\"attributes\":{\"gene_relationship\":[\"Affecting the same tissue\",\"Relevant pathways for phenotype\"],\"protein_interactions\":[],\"common_pathways\":[],\"genecomb_metascore\":3,\"lastmodified\":\"2021-10-18T11:00:45.442527\"},\"relationships\":{\"combination_set\":{\"meta\":{\"count\":1},\"data\":[{\"type\":\"Combination\",\"id\":\"OLI007\"}],\"links\":{\"self\":\"https://olida.ibsquare.be/api/genecombinations/6/relationships/combination_set\",\"related\":\"https://olida.ibsquare.be/api/genecombinations/6/combinations/\"}},\"genes\":{\"meta\":{\"count\":2},\"data\":[{\"type\":\"Gene\",\"id\":\"ADD3\"},{\"type\":\"Gene\",\"id\":\"KAT2B\"}],\"links\":{\"self\":\"https://olida.ibsquare.be/api/genecombinations/6/relationships/genes\",\"related\":\"https://olida.ibsquare.be/api/genecombinations/6/genes/\"}}},\"links\":{\"self\":\"https://olida.ibsquare.be/api/genecombinations/6/\"}}]}\n"
     ]
    }
   ],
   "source": [
    "print(x.text)"
   ]
  },
  {
   "cell_type": "code",
   "execution_count": 125,
   "id": "4c752e1d",
   "metadata": {},
   "outputs": [],
   "source": [
    "combo_dict = json.loads(x.text)"
   ]
  },
  {
   "cell_type": "code",
   "execution_count": 126,
   "id": "6eba8f46",
   "metadata": {},
   "outputs": [
    {
     "data": {
      "text/plain": [
       "[{'type': 'GeneCombination',\n",
       "  'id': '6',\n",
       "  'attributes': {'gene_relationship': ['Affecting the same tissue',\n",
       "    'Relevant pathways for phenotype'],\n",
       "   'protein_interactions': [],\n",
       "   'common_pathways': [],\n",
       "   'genecomb_metascore': 3,\n",
       "   'lastmodified': '2021-10-18T11:00:45.442527'},\n",
       "  'relationships': {'combination_set': {'meta': {'count': 1},\n",
       "    'data': [{'type': 'Combination', 'id': 'OLI007'}],\n",
       "    'links': {'self': 'https://olida.ibsquare.be/api/genecombinations/6/relationships/combination_set',\n",
       "     'related': 'https://olida.ibsquare.be/api/genecombinations/6/combinations/'}},\n",
       "   'genes': {'meta': {'count': 2},\n",
       "    'data': [{'type': 'Gene', 'id': 'ADD3'}, {'type': 'Gene', 'id': 'KAT2B'}],\n",
       "    'links': {'self': 'https://olida.ibsquare.be/api/genecombinations/6/relationships/genes',\n",
       "     'related': 'https://olida.ibsquare.be/api/genecombinations/6/genes/'}}},\n",
       "  'links': {'self': 'https://olida.ibsquare.be/api/genecombinations/6/'}}]"
      ]
     },
     "execution_count": 126,
     "metadata": {},
     "output_type": "execute_result"
    }
   ],
   "source": [
    "combo_dict[\"data\"]"
   ]
  },
  {
   "cell_type": "code",
   "execution_count": 134,
   "id": "b53d469c",
   "metadata": {},
   "outputs": [
    {
     "data": {
      "text/plain": [
       "{'combination_set': {'meta': {'count': 1},\n",
       "  'data': [{'type': 'Combination', 'id': 'OLI007'}],\n",
       "  'links': {'self': 'https://olida.ibsquare.be/api/genecombinations/6/relationships/combination_set',\n",
       "   'related': 'https://olida.ibsquare.be/api/genecombinations/6/combinations/'}},\n",
       " 'genes': {'meta': {'count': 2},\n",
       "  'data': [{'type': 'Gene', 'id': 'ADD3'}, {'type': 'Gene', 'id': 'KAT2B'}],\n",
       "  'links': {'self': 'https://olida.ibsquare.be/api/genecombinations/6/relationships/genes',\n",
       "   'related': 'https://olida.ibsquare.be/api/genecombinations/6/genes/'}}}"
      ]
     },
     "execution_count": 134,
     "metadata": {},
     "output_type": "execute_result"
    }
   ],
   "source": [
    "combo_dict[\"data\"][0][\"relationships\"]"
   ]
  },
  {
   "cell_type": "code",
   "execution_count": 135,
   "id": "aca8ae57",
   "metadata": {},
   "outputs": [
    {
     "data": {
      "text/plain": [
       "{'meta': {'count': 2},\n",
       " 'data': [{'type': 'Gene', 'id': 'ADD3'}, {'type': 'Gene', 'id': 'KAT2B'}],\n",
       " 'links': {'self': 'https://olida.ibsquare.be/api/genecombinations/6/relationships/genes',\n",
       "  'related': 'https://olida.ibsquare.be/api/genecombinations/6/genes/'}}"
      ]
     },
     "execution_count": 135,
     "metadata": {},
     "output_type": "execute_result"
    }
   ],
   "source": [
    "combo_dict[\"data\"][0][\"relationships\"][\"genes\"]"
   ]
  },
  {
   "cell_type": "code",
   "execution_count": 136,
   "id": "1ce7c209",
   "metadata": {},
   "outputs": [
    {
     "data": {
      "text/plain": [
       "[{'type': 'Gene', 'id': 'ADD3'}, {'type': 'Gene', 'id': 'KAT2B'}]"
      ]
     },
     "execution_count": 136,
     "metadata": {},
     "output_type": "execute_result"
    }
   ],
   "source": [
    "combo_dict[\"data\"][0][\"relationships\"][\"genes\"][\"data\"]"
   ]
  },
  {
   "cell_type": "code",
   "execution_count": 137,
   "id": "38db52b7",
   "metadata": {},
   "outputs": [
    {
     "data": {
      "text/plain": [
       "'ADD3'"
      ]
     },
     "execution_count": 137,
     "metadata": {},
     "output_type": "execute_result"
    }
   ],
   "source": [
    "combo_dict[\"data\"][0][\"relationships\"][\"genes\"][\"data\"][0][\"id\"]"
   ]
  },
  {
   "cell_type": "code",
   "execution_count": 138,
   "id": "c7962b03",
   "metadata": {},
   "outputs": [
    {
     "data": {
      "text/plain": [
       "'KAT2B'"
      ]
     },
     "execution_count": 138,
     "metadata": {},
     "output_type": "execute_result"
    }
   ],
   "source": [
    "combo_dict[\"data\"][0][\"relationships\"][\"genes\"][\"data\"][1][\"id\"]"
   ]
  },
  {
   "cell_type": "code",
   "execution_count": 139,
   "id": "d4a45511",
   "metadata": {},
   "outputs": [
    {
     "name": "stdout",
     "output_type": "stream",
     "text": [
      "{\"data\":[{\"type\":\"GeneCombination\",\"id\":\"7\",\"attributes\":{\"gene_relationship\":[\"Involved in the same disease\",\"Affecting the same tissue\",\"Relevant pathways for phenotype\",\"Same pathway\",\"Similar function\"],\"protein_interactions\":[],\"common_pathways\":[\"Sodium-coupled phosphate cotransporters\",\"Transport of inorganic cations/anions and amino acids/oligopeptides\",\"Disease\",\"SLC-mediated transmembrane transport\",\"Transport of small molecules\",\"secretion and action\",\"SLC transporter disorders\",\"Type II Na+/Pi cotransporters\",\"Parathyroid hormone synthesis\",\"Disorders of transmembrane transporters\"],\"genecomb_metascore\":3,\"lastmodified\":\"2021-10-18T11:00:45.477145\"},\"relationships\":{\"combination_set\":{\"meta\":{\"count\":1},\"data\":[{\"type\":\"Combination\",\"id\":\"OLI008\"}],\"links\":{\"self\":\"https://olida.ibsquare.be/api/genecombinations/7/relationships/combination_set\",\"related\":\"https://olida.ibsquare.be/api/genecombinations/7/combinations/\"}},\"genes\":{\"meta\":{\"count\":2},\"data\":[{\"type\":\"Gene\",\"id\":\"SLC34A1\"},{\"type\":\"Gene\",\"id\":\"SLC34A3\"}],\"links\":{\"self\":\"https://olida.ibsquare.be/api/genecombinations/7/relationships/genes\",\"related\":\"https://olida.ibsquare.be/api/genecombinations/7/genes/\"}}},\"links\":{\"self\":\"https://olida.ibsquare.be/api/genecombinations/7/\"}}]}\n"
     ]
    }
   ],
   "source": [
    "x = requests.get('https://olida.ibsquare.be/api/combinations/OLI008/genecombinations/')\n",
    "print(x.text)"
   ]
  },
  {
   "cell_type": "markdown",
   "id": "334d86a9",
   "metadata": {},
   "source": [
    "# OLIDA Combinations To Genes Function"
   ]
  },
  {
   "cell_type": "code",
   "execution_count": 151,
   "id": "e7438e68",
   "metadata": {},
   "outputs": [],
   "source": [
    "def get_gene_name(combo):\n",
    "    x = requests.get(f'https://olida.ibsquare.be/api/combinations/{combo}/genecombinations/')\n",
    "    combo_dict = json.loads(x.text)\n",
    "    genes = []\n",
    "    for dict_i in combo_dict[\"data\"][0][\"relationships\"][\"genes\"][\"data\"]:\n",
    "        y = dict_i[\"id\"]\n",
    "        genes.append(y)\n",
    "    return genes"
   ]
  },
  {
   "cell_type": "code",
   "execution_count": 149,
   "id": "7eb6029e",
   "metadata": {},
   "outputs": [
    {
     "data": {
      "text/plain": [
       "['ADD3', 'KAT2B']"
      ]
     },
     "execution_count": 149,
     "metadata": {},
     "output_type": "execute_result"
    }
   ],
   "source": [
    "get_gene_name(\"OLI007\")"
   ]
  },
  {
   "cell_type": "code",
   "execution_count": 150,
   "id": "1017bcaf",
   "metadata": {},
   "outputs": [
    {
     "data": {
      "text/plain": [
       "['SLC34A1', 'SLC34A3']"
      ]
     },
     "execution_count": 150,
     "metadata": {},
     "output_type": "execute_result"
    }
   ],
   "source": [
    "get_gene_name(\"OLI008\")"
   ]
  },
  {
   "cell_type": "markdown",
   "id": "91543475",
   "metadata": {},
   "source": [
    "# Olida Dataframe"
   ]
  },
  {
   "cell_type": "code",
   "execution_count": 3,
   "id": "d80ff23f",
   "metadata": {},
   "outputs": [],
   "source": [
    "gene_names = [\"ABCA13\", \"ABCA7\", \"ABCC6\", \"ABCC8\"]"
   ]
  },
  {
   "cell_type": "code",
   "execution_count": 155,
   "id": "fa491da9",
   "metadata": {},
   "outputs": [],
   "source": [
    "mydict = dict()"
   ]
  },
  {
   "cell_type": "code",
   "execution_count": 156,
   "id": "32a0a400",
   "metadata": {},
   "outputs": [
    {
     "data": {
      "text/plain": [
       "{}"
      ]
     },
     "execution_count": 156,
     "metadata": {},
     "output_type": "execute_result"
    }
   ],
   "source": [
    "mydict"
   ]
  },
  {
   "cell_type": "code",
   "execution_count": 157,
   "id": "2df81d6a",
   "metadata": {},
   "outputs": [],
   "source": [
    "names = [\"A\", \"B\", \"C\", \"D\"]\n",
    "nums = [0, 1, 2, 3]\n",
    "\n",
    "for i,n in enumerate(names):\n",
    "    mydict[n] = nums[i]"
   ]
  },
  {
   "cell_type": "code",
   "execution_count": 158,
   "id": "4525a4c9",
   "metadata": {},
   "outputs": [
    {
     "data": {
      "text/plain": [
       "{'A': 0, 'B': 1, 'C': 2, 'D': 3}"
      ]
     },
     "execution_count": 158,
     "metadata": {},
     "output_type": "execute_result"
    }
   ],
   "source": [
    "mydict"
   ]
  },
  {
   "cell_type": "code",
   "execution_count": 379,
   "id": "2f129d50",
   "metadata": {},
   "outputs": [
    {
     "name": "stdout",
     "output_type": "stream",
     "text": [
      "1 2 3 4 \n"
     ]
    }
   ],
   "source": [
    "mylist = [1, 2, 3, 4]\n",
    "list_space = ['{0} '.format(item) for item in mylist]\n",
    "string = \"\".join([str(item) for item in list_space])\n",
    "mylist.append(string)\n",
    "print(string)"
   ]
  },
  {
   "cell_type": "code",
   "execution_count": null,
   "id": "e7d1d3bc",
   "metadata": {},
   "outputs": [],
   "source": [
    "mydf = {}"
   ]
  },
  {
   "cell_type": "code",
   "execution_count": 342,
   "id": "4762cfa9",
   "metadata": {},
   "outputs": [
    {
     "data": {
      "text/plain": [
       "[{'type': 'GeneCombination',\n",
       "  'id': '569',\n",
       "  'attributes': {'gene_relationship': ['Relevant pathways for phenotype'],\n",
       "   'protein_interactions': [],\n",
       "   'common_pathways': [],\n",
       "   'genecomb_metascore': 0,\n",
       "   'lastmodified': '2021-10-18T11:01:16.687445'},\n",
       "  'relationships': {'combination_set': {'meta': {'count': 2},\n",
       "    'data': [{'type': 'Combination', 'id': 'OLI787'},\n",
       "     {'type': 'Combination', 'id': 'OLI788'}],\n",
       "    'links': {'self': 'https://olida.ibsquare.be/api/genecombinations/569/relationships/combination_set',\n",
       "     'related': 'https://olida.ibsquare.be/api/genecombinations/569/combinations/'}},\n",
       "   'genes': {'meta': {'count': 3},\n",
       "    'data': [{'type': 'Gene', 'id': 'ABCA7'},\n",
       "     {'type': 'Gene', 'id': 'ADNP'},\n",
       "     {'type': 'Gene', 'id': 'COL6A3'}],\n",
       "    'links': {'self': 'https://olida.ibsquare.be/api/genecombinations/569/relationships/genes',\n",
       "     'related': 'https://olida.ibsquare.be/api/genecombinations/569/genes/'}}},\n",
       "  'links': {'self': 'https://olida.ibsquare.be/api/genecombinations/569/'}},\n",
       " {'type': 'GeneCombination',\n",
       "  'id': '579',\n",
       "  'attributes': {'gene_relationship': ['Involved in the same disease',\n",
       "    'Relevant pathways for phenotype'],\n",
       "   'protein_interactions': [],\n",
       "   'common_pathways': [],\n",
       "   'genecomb_metascore': 0,\n",
       "   'lastmodified': '2021-10-18T11:01:17.185641'},\n",
       "  'relationships': {'combination_set': {'meta': {'count': 1},\n",
       "    'data': [{'type': 'Combination', 'id': 'OLI799'}],\n",
       "    'links': {'self': 'https://olida.ibsquare.be/api/genecombinations/579/relationships/combination_set',\n",
       "     'related': 'https://olida.ibsquare.be/api/genecombinations/579/combinations/'}},\n",
       "   'genes': {'meta': {'count': 3},\n",
       "    'data': [{'type': 'Gene', 'id': 'ABCA7'},\n",
       "     {'type': 'Gene', 'id': 'SPEG'},\n",
       "     {'type': 'Gene', 'id': 'TPM2'}],\n",
       "    'links': {'self': 'https://olida.ibsquare.be/api/genecombinations/579/relationships/genes',\n",
       "     'related': 'https://olida.ibsquare.be/api/genecombinations/579/genes/'}}},\n",
       "  'links': {'self': 'https://olida.ibsquare.be/api/genecombinations/579/'}}]"
      ]
     },
     "execution_count": 342,
     "metadata": {},
     "output_type": "execute_result"
    }
   ],
   "source": [
    "gene_dict['data']"
   ]
  },
  {
   "cell_type": "code",
   "execution_count": 343,
   "id": "da2fac24",
   "metadata": {},
   "outputs": [
    {
     "data": {
      "text/plain": [
       "['OLI004', 'OLI005']"
      ]
     },
     "execution_count": 343,
     "metadata": {},
     "output_type": "execute_result"
    }
   ],
   "source": [
    "a"
   ]
  },
  {
   "cell_type": "code",
   "execution_count": 4,
   "id": "9aead3de",
   "metadata": {},
   "outputs": [
    {
     "ename": "NameError",
     "evalue": "name 'get_combo_name' is not defined",
     "output_type": "error",
     "traceback": [
      "\u001b[0;31m---------------------------------------------------------------------------\u001b[0m",
      "\u001b[0;31mNameError\u001b[0m                                 Traceback (most recent call last)",
      "Cell \u001b[0;32mIn[4], line 14\u001b[0m\n\u001b[1;32m     12\u001b[0m \u001b[38;5;66;03m# get combinations for this gene\u001b[39;00m\n\u001b[1;32m     13\u001b[0m \u001b[38;5;28;01mfor\u001b[39;00m gn \u001b[38;5;129;01min\u001b[39;00m gene_names:\n\u001b[0;32m---> 14\u001b[0m     a \u001b[38;5;241m=\u001b[39m get_combo_name(gn)\n\u001b[1;32m     15\u001b[0m     \u001b[38;5;28;01mfor\u001b[39;00m a2 \u001b[38;5;129;01min\u001b[39;00m a:\n\u001b[1;32m     16\u001b[0m         info_dict[\u001b[38;5;124m'\u001b[39m\u001b[38;5;124mcombo_id\u001b[39m\u001b[38;5;124m'\u001b[39m]\u001b[38;5;241m.\u001b[39mappend(a2)\n",
      "\u001b[0;31mNameError\u001b[0m: name 'get_combo_name' is not defined"
     ]
    }
   ],
   "source": [
    "info_dict = {\n",
    "    'gene_name': [],\n",
    "    'combo_id': [],\n",
    "    'combo_disease': [],\n",
    "    'disease_icd': [],\n",
    "    'partner_genes': []\n",
    "}\n",
    "\n",
    "gene_name = []\n",
    "combo_id = []\n",
    "\n",
    "# get combinations for this gene\n",
    "for gn in gene_names:\n",
    "    a = get_combo_name(gn)\n",
    "    for a2 in a:\n",
    "        info_dict['combo_id'].append(a2)\n",
    "        info_dict['gene_name'].append(gn)\n",
    "        combo_id.append(a2)\n",
    "        gene_name.append(gn)\n",
    "    \n",
    "# get partner genes in combination\n",
    "for gn2 in gene_name:\n",
    "    b = get_partner_name(gn2)\n",
    "    b = \"|\".join(b)\n",
    "    info_dict['partner_genes'].append(b)\n",
    "    \n",
    "for combo in combo_id:\n",
    "    # get combo disease\n",
    "    c = get_disease_name(combo)\n",
    "    cstring = ''.join([str(item) for item in c])\n",
    "    info_dict['combo_disease'].append(cstring)\n",
    "    \n",
    "    # get combo icd 10 code\n",
    "    d = get_disease_icd(combo)\n",
    "    dstring = ''.join([str(item) for item in d])\n",
    "    info_dict['disease_icd'].append(dstring)"
   ]
  },
  {
   "cell_type": "code",
   "execution_count": 394,
   "id": "5644e83b",
   "metadata": {},
   "outputs": [
    {
     "data": {
      "text/plain": [
       "{'gene_name': ['ABCA13', 'ABCA7', 'ABCA7', 'ABCA7', 'ABCC6', 'ABCC8', 'ABCC8'],\n",
       " 'combo_id': ['OLI935',\n",
       "  'OLI787',\n",
       "  'OLI788',\n",
       "  'OLI799',\n",
       "  'OLI301',\n",
       "  'OLI004',\n",
       "  'OLI005'],\n",
       " 'combo_disease': ['Schizophrenia',\n",
       "  'Arthrogryposis syndrome',\n",
       "  'Arthrogryposis syndrome',\n",
       "  'Arthrogryposis syndrome',\n",
       "  'Pseudoxanthoma elasticum',\n",
       "  'Idiopathic pulmonary arterial hypertension',\n",
       "  'Pulmonary arterial hypertension associated with congenital heart disease'],\n",
       " 'disease_icd': ['', 'Q68.8', 'Q68.8', 'Q68.8', 'Q82.8', 'I27.0', 'I27.2'],\n",
       " 'partner_genes': ['ABCA13|SCN9A|SYT14',\n",
       "  'ABCA7|ADNP|COL6A3',\n",
       "  'ABCA7|ADNP|COL6A3',\n",
       "  'ABCA7|ADNP|COL6A3',\n",
       "  'ABCC6|GGCX',\n",
       "  'ABCC8|NOTCH3',\n",
       "  'ABCC8|NOTCH3']}"
      ]
     },
     "execution_count": 394,
     "metadata": {},
     "output_type": "execute_result"
    }
   ],
   "source": [
    "info_dict"
   ]
  },
  {
   "cell_type": "code",
   "execution_count": 395,
   "id": "43f143cd",
   "metadata": {},
   "outputs": [
    {
     "data": {
      "text/plain": [
       "['OLI935', 'OLI787', 'OLI788', 'OLI799', 'OLI301', 'OLI004', 'OLI005']"
      ]
     },
     "execution_count": 395,
     "metadata": {},
     "output_type": "execute_result"
    }
   ],
   "source": [
    "combo_id"
   ]
  },
  {
   "cell_type": "code",
   "execution_count": 396,
   "id": "5c178c2f",
   "metadata": {},
   "outputs": [
    {
     "data": {
      "text/plain": [
       "['ABCA13', 'ABCA7', 'ABCA7', 'ABCA7', 'ABCC6', 'ABCC8', 'ABCC8']"
      ]
     },
     "execution_count": 396,
     "metadata": {},
     "output_type": "execute_result"
    }
   ],
   "source": [
    "gene_name"
   ]
  },
  {
   "cell_type": "code",
   "execution_count": 264,
   "id": "01cd445f",
   "metadata": {},
   "outputs": [],
   "source": [
    "import pandas as pd"
   ]
  },
  {
   "cell_type": "code",
   "execution_count": 397,
   "id": "f35f4d6e",
   "metadata": {},
   "outputs": [],
   "source": [
    "df = pd.DataFrame(info_dict)"
   ]
  },
  {
   "cell_type": "code",
   "execution_count": 398,
   "id": "bad18c1e",
   "metadata": {},
   "outputs": [
    {
     "data": {
      "text/html": [
       "<div>\n",
       "<style scoped>\n",
       "    .dataframe tbody tr th:only-of-type {\n",
       "        vertical-align: middle;\n",
       "    }\n",
       "\n",
       "    .dataframe tbody tr th {\n",
       "        vertical-align: top;\n",
       "    }\n",
       "\n",
       "    .dataframe thead th {\n",
       "        text-align: right;\n",
       "    }\n",
       "</style>\n",
       "<table border=\"1\" class=\"dataframe\">\n",
       "  <thead>\n",
       "    <tr style=\"text-align: right;\">\n",
       "      <th></th>\n",
       "      <th>gene_name</th>\n",
       "      <th>combo_id</th>\n",
       "      <th>combo_disease</th>\n",
       "      <th>disease_icd</th>\n",
       "      <th>partner_genes</th>\n",
       "    </tr>\n",
       "  </thead>\n",
       "  <tbody>\n",
       "    <tr>\n",
       "      <th>0</th>\n",
       "      <td>ABCA13</td>\n",
       "      <td>OLI935</td>\n",
       "      <td>Schizophrenia</td>\n",
       "      <td></td>\n",
       "      <td>ABCA13|SCN9A|SYT14</td>\n",
       "    </tr>\n",
       "    <tr>\n",
       "      <th>1</th>\n",
       "      <td>ABCA7</td>\n",
       "      <td>OLI787</td>\n",
       "      <td>Arthrogryposis syndrome</td>\n",
       "      <td>Q68.8</td>\n",
       "      <td>ABCA7|ADNP|COL6A3</td>\n",
       "    </tr>\n",
       "    <tr>\n",
       "      <th>2</th>\n",
       "      <td>ABCA7</td>\n",
       "      <td>OLI788</td>\n",
       "      <td>Arthrogryposis syndrome</td>\n",
       "      <td>Q68.8</td>\n",
       "      <td>ABCA7|ADNP|COL6A3</td>\n",
       "    </tr>\n",
       "    <tr>\n",
       "      <th>3</th>\n",
       "      <td>ABCA7</td>\n",
       "      <td>OLI799</td>\n",
       "      <td>Arthrogryposis syndrome</td>\n",
       "      <td>Q68.8</td>\n",
       "      <td>ABCA7|ADNP|COL6A3</td>\n",
       "    </tr>\n",
       "    <tr>\n",
       "      <th>4</th>\n",
       "      <td>ABCC6</td>\n",
       "      <td>OLI301</td>\n",
       "      <td>Pseudoxanthoma elasticum</td>\n",
       "      <td>Q82.8</td>\n",
       "      <td>ABCC6|GGCX</td>\n",
       "    </tr>\n",
       "    <tr>\n",
       "      <th>5</th>\n",
       "      <td>ABCC8</td>\n",
       "      <td>OLI004</td>\n",
       "      <td>Idiopathic pulmonary arterial hypertension</td>\n",
       "      <td>I27.0</td>\n",
       "      <td>ABCC8|NOTCH3</td>\n",
       "    </tr>\n",
       "    <tr>\n",
       "      <th>6</th>\n",
       "      <td>ABCC8</td>\n",
       "      <td>OLI005</td>\n",
       "      <td>Pulmonary arterial hypertension associated wit...</td>\n",
       "      <td>I27.2</td>\n",
       "      <td>ABCC8|NOTCH3</td>\n",
       "    </tr>\n",
       "  </tbody>\n",
       "</table>\n",
       "</div>"
      ],
      "text/plain": [
       "  gene_name combo_id                                      combo_disease  \\\n",
       "0    ABCA13   OLI935                                      Schizophrenia   \n",
       "1     ABCA7   OLI787                            Arthrogryposis syndrome   \n",
       "2     ABCA7   OLI788                            Arthrogryposis syndrome   \n",
       "3     ABCA7   OLI799                            Arthrogryposis syndrome   \n",
       "4     ABCC6   OLI301                           Pseudoxanthoma elasticum   \n",
       "5     ABCC8   OLI004         Idiopathic pulmonary arterial hypertension   \n",
       "6     ABCC8   OLI005  Pulmonary arterial hypertension associated wit...   \n",
       "\n",
       "  disease_icd       partner_genes  \n",
       "0              ABCA13|SCN9A|SYT14  \n",
       "1       Q68.8   ABCA7|ADNP|COL6A3  \n",
       "2       Q68.8   ABCA7|ADNP|COL6A3  \n",
       "3       Q68.8   ABCA7|ADNP|COL6A3  \n",
       "4       Q82.8          ABCC6|GGCX  \n",
       "5       I27.0        ABCC8|NOTCH3  \n",
       "6       I27.2        ABCC8|NOTCH3  "
      ]
     },
     "execution_count": 398,
     "metadata": {},
     "output_type": "execute_result"
    }
   ],
   "source": [
    "df"
   ]
  },
  {
   "cell_type": "code",
   "execution_count": 391,
   "id": "21bf2e1e",
   "metadata": {},
   "outputs": [
    {
     "data": {
      "text/html": [
       "<div>\n",
       "<style scoped>\n",
       "    .dataframe tbody tr th:only-of-type {\n",
       "        vertical-align: middle;\n",
       "    }\n",
       "\n",
       "    .dataframe tbody tr th {\n",
       "        vertical-align: top;\n",
       "    }\n",
       "\n",
       "    .dataframe thead th {\n",
       "        text-align: right;\n",
       "    }\n",
       "</style>\n",
       "<table border=\"1\" class=\"dataframe\">\n",
       "  <thead>\n",
       "    <tr style=\"text-align: right;\">\n",
       "      <th></th>\n",
       "      <th>gene_name</th>\n",
       "      <th>combo_id</th>\n",
       "      <th>combo_disease</th>\n",
       "      <th>disease_icd</th>\n",
       "      <th>partner_genes</th>\n",
       "    </tr>\n",
       "  </thead>\n",
       "  <tbody>\n",
       "    <tr>\n",
       "      <th>0</th>\n",
       "      <td>ABCA13</td>\n",
       "      <td>OLI935</td>\n",
       "      <td>Schizophrenia</td>\n",
       "      <td></td>\n",
       "      <td>[ABCA13, SCN9A, SYT14]</td>\n",
       "    </tr>\n",
       "    <tr>\n",
       "      <th>1</th>\n",
       "      <td>ABCA7</td>\n",
       "      <td>OLI787</td>\n",
       "      <td>Arthrogryposis syndrome</td>\n",
       "      <td>Q68.8</td>\n",
       "      <td>[ABCA7, ADNP, COL6A3]</td>\n",
       "    </tr>\n",
       "    <tr>\n",
       "      <th>2</th>\n",
       "      <td>ABCA7</td>\n",
       "      <td>OLI788</td>\n",
       "      <td>Arthrogryposis syndrome</td>\n",
       "      <td>Q68.8</td>\n",
       "      <td>[ABCA7, ADNP, COL6A3]</td>\n",
       "    </tr>\n",
       "    <tr>\n",
       "      <th>3</th>\n",
       "      <td>ABCA7</td>\n",
       "      <td>OLI799</td>\n",
       "      <td>Arthrogryposis syndrome</td>\n",
       "      <td>Q68.8</td>\n",
       "      <td>[ABCA7, ADNP, COL6A3]</td>\n",
       "    </tr>\n",
       "    <tr>\n",
       "      <th>4</th>\n",
       "      <td>ABCC6</td>\n",
       "      <td>OLI301</td>\n",
       "      <td>Pseudoxanthoma elasticum</td>\n",
       "      <td>Q82.8</td>\n",
       "      <td>[ABCC6, GGCX]</td>\n",
       "    </tr>\n",
       "    <tr>\n",
       "      <th>5</th>\n",
       "      <td>ABCC8</td>\n",
       "      <td>OLI004</td>\n",
       "      <td>Idiopathic pulmonary arterial hypertension</td>\n",
       "      <td>I27.0</td>\n",
       "      <td>[ABCC8, NOTCH3]</td>\n",
       "    </tr>\n",
       "    <tr>\n",
       "      <th>6</th>\n",
       "      <td>ABCC8</td>\n",
       "      <td>OLI005</td>\n",
       "      <td>Pulmonary arterial hypertension associated wit...</td>\n",
       "      <td>I27.2</td>\n",
       "      <td>[ABCC8, NOTCH3]</td>\n",
       "    </tr>\n",
       "  </tbody>\n",
       "</table>\n",
       "</div>"
      ],
      "text/plain": [
       "  gene_name combo_id                                      combo_disease  \\\n",
       "0    ABCA13   OLI935                                      Schizophrenia   \n",
       "1     ABCA7   OLI787                            Arthrogryposis syndrome   \n",
       "2     ABCA7   OLI788                            Arthrogryposis syndrome   \n",
       "3     ABCA7   OLI799                            Arthrogryposis syndrome   \n",
       "4     ABCC6   OLI301                           Pseudoxanthoma elasticum   \n",
       "5     ABCC8   OLI004         Idiopathic pulmonary arterial hypertension   \n",
       "6     ABCC8   OLI005  Pulmonary arterial hypertension associated wit...   \n",
       "\n",
       "  disease_icd           partner_genes  \n",
       "0              [ABCA13, SCN9A, SYT14]  \n",
       "1       Q68.8   [ABCA7, ADNP, COL6A3]  \n",
       "2       Q68.8   [ABCA7, ADNP, COL6A3]  \n",
       "3       Q68.8   [ABCA7, ADNP, COL6A3]  \n",
       "4       Q82.8           [ABCC6, GGCX]  \n",
       "5       I27.0         [ABCC8, NOTCH3]  \n",
       "6       I27.2         [ABCC8, NOTCH3]  "
      ]
     },
     "execution_count": 391,
     "metadata": {},
     "output_type": "execute_result"
    }
   ],
   "source": [
    "df"
   ]
  },
  {
   "cell_type": "code",
   "execution_count": 1,
   "id": "342fb30e",
   "metadata": {},
   "outputs": [
    {
     "ename": "NameError",
     "evalue": "name 'info_dict' is not defined",
     "output_type": "error",
     "traceback": [
      "\u001b[0;31m---------------------------------------------------------------------------\u001b[0m",
      "\u001b[0;31mNameError\u001b[0m                                 Traceback (most recent call last)",
      "Cell \u001b[0;32mIn[1], line 1\u001b[0m\n\u001b[0;32m----> 1\u001b[0m info_dict[\u001b[38;5;124m'\u001b[39m\u001b[38;5;124mgene_name\u001b[39m\u001b[38;5;124m'\u001b[39m]\n",
      "\u001b[0;31mNameError\u001b[0m: name 'info_dict' is not defined"
     ]
    }
   ],
   "source": [
    "info_dict['gene_name']"
   ]
  },
  {
   "cell_type": "code",
   "execution_count": 400,
   "id": "353d1b31",
   "metadata": {},
   "outputs": [
    {
     "data": {
      "text/plain": [
       "'/Users/niranjananoop25/work/oligo'"
      ]
     },
     "execution_count": 400,
     "metadata": {},
     "output_type": "execute_result"
    }
   ],
   "source": [
    "%pwd"
   ]
  },
  {
   "cell_type": "code",
   "execution_count": 405,
   "id": "8184f8bf",
   "metadata": {},
   "outputs": [],
   "source": [
    "df.to_csv('modified.csv', index=False)"
   ]
  },
  {
   "cell_type": "markdown",
   "id": "35cafd2e",
   "metadata": {},
   "source": [
    "# Dictionary Function"
   ]
  },
  {
   "cell_type": "code",
   "execution_count": 501,
   "id": "0ae5ffc4",
   "metadata": {},
   "outputs": [],
   "source": [
    "def make_dict(genes):\n",
    "    gene_nms = []\n",
    "    for g in genes:\n",
    "        gene_nms.append(g)\n",
    "    return gene_nms"
   ]
  },
  {
   "cell_type": "code",
   "execution_count": 502,
   "id": "b25fa23b",
   "metadata": {},
   "outputs": [
    {
     "data": {
      "text/plain": [
       "['ABCA13', 'ABCA7', 'ABCC6', 'ABCC8']"
      ]
     },
     "execution_count": 502,
     "metadata": {},
     "output_type": "execute_result"
    }
   ],
   "source": [
    "make_dict([\"ABCA13\", \"ABCA7\", \"ABCC6\", \"ABCC8\"])"
   ]
  },
  {
   "cell_type": "code",
   "execution_count": 484,
   "id": "41679593",
   "metadata": {},
   "outputs": [],
   "source": [
    "gene_names.clear()"
   ]
  },
  {
   "cell_type": "code",
   "execution_count": 503,
   "id": "e8d2c016",
   "metadata": {},
   "outputs": [
    {
     "ename": "NameError",
     "evalue": "name 'gene_nms' is not defined",
     "output_type": "error",
     "traceback": [
      "\u001b[0;31m---------------------------------------------------------------------------\u001b[0m",
      "\u001b[0;31mNameError\u001b[0m                                 Traceback (most recent call last)",
      "Cell \u001b[0;32mIn[503], line 1\u001b[0m\n\u001b[0;32m----> 1\u001b[0m gene_nms\n",
      "\u001b[0;31mNameError\u001b[0m: name 'gene_nms' is not defined"
     ]
    }
   ],
   "source": [
    "gene_nms"
   ]
  },
  {
   "cell_type": "code",
   "execution_count": 462,
   "id": "946a4e24",
   "metadata": {},
   "outputs": [
    {
     "data": {
      "text/plain": [
       "<function __main__.make_dict(genes)>"
      ]
     },
     "execution_count": 462,
     "metadata": {},
     "output_type": "execute_result"
    }
   ],
   "source": [
    "make_dict"
   ]
  },
  {
   "cell_type": "code",
   "execution_count": null,
   "id": "070acb09",
   "metadata": {},
   "outputs": [],
   "source": []
  }
 ],
 "metadata": {
  "kernelspec": {
   "display_name": "Python 3 (ipykernel)",
   "language": "python",
   "name": "python3"
  },
  "language_info": {
   "codemirror_mode": {
    "name": "ipython",
    "version": 3
   },
   "file_extension": ".py",
   "mimetype": "text/x-python",
   "name": "python",
   "nbconvert_exporter": "python",
   "pygments_lexer": "ipython3",
   "version": "3.11.4"
  }
 },
 "nbformat": 4,
 "nbformat_minor": 5
}
