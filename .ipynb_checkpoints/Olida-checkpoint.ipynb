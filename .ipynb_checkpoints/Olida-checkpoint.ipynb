{
 "cells": [
  {
   "cell_type": "markdown",
   "id": "5faa89fe",
   "metadata": {},
   "source": [
    "# Basics of python\n",
    "\n",
    "## Assign variables, learn operations and define functions"
   ]
  },
  {
   "cell_type": "code",
   "execution_count": 1,
   "id": "634a6cbb",
   "metadata": {},
   "outputs": [],
   "source": [
    "mynumber = 5"
   ]
  },
  {
   "cell_type": "code",
   "execution_count": 2,
   "id": "ff1dcd3c",
   "metadata": {},
   "outputs": [],
   "source": [
    "anothernumber = 7"
   ]
  },
  {
   "cell_type": "code",
   "execution_count": 3,
   "id": "791040f3",
   "metadata": {},
   "outputs": [
    {
     "data": {
      "text/plain": [
       "12"
      ]
     },
     "execution_count": 3,
     "metadata": {},
     "output_type": "execute_result"
    }
   ],
   "source": [
    "mynumber + anothernumber"
   ]
  },
  {
   "cell_type": "code",
   "execution_count": 4,
   "id": "c307bfb5",
   "metadata": {},
   "outputs": [],
   "source": [
    "addednumber = mynumber + anothernumber"
   ]
  },
  {
   "cell_type": "code",
   "execution_count": 5,
   "id": "586224c4",
   "metadata": {},
   "outputs": [],
   "source": [
    "def addfunction(x, y):\n",
    "    # run addition operation\n",
    "    z = x + y\n",
    "    return z"
   ]
  },
  {
   "cell_type": "code",
   "execution_count": 6,
   "id": "c8aafd97",
   "metadata": {},
   "outputs": [
    {
     "data": {
      "text/plain": [
       "12"
      ]
     },
     "execution_count": 6,
     "metadata": {},
     "output_type": "execute_result"
    }
   ],
   "source": [
    "addfunction(mynumber, anothernumber)"
   ]
  },
  {
   "cell_type": "code",
   "execution_count": 7,
   "id": "6efd1491",
   "metadata": {},
   "outputs": [],
   "source": [
    "addednumber = addfunction(mynumber, anothernumber)"
   ]
  },
  {
   "cell_type": "code",
   "execution_count": 8,
   "id": "2ee9507b",
   "metadata": {},
   "outputs": [
    {
     "data": {
      "text/plain": [
       "12"
      ]
     },
     "execution_count": 8,
     "metadata": {},
     "output_type": "execute_result"
    }
   ],
   "source": [
    "addednumber"
   ]
  },
  {
   "cell_type": "markdown",
   "id": "1240f521",
   "metadata": {},
   "source": [
    "# Datastructures and Looping"
   ]
  },
  {
   "cell_type": "code",
   "execution_count": 9,
   "id": "b82f0629",
   "metadata": {},
   "outputs": [],
   "source": [
    "mylist = [1, 2, 3, 4]"
   ]
  },
  {
   "cell_type": "code",
   "execution_count": 11,
   "id": "c71cfb42",
   "metadata": {},
   "outputs": [
    {
     "name": "stdout",
     "output_type": "stream",
     "text": [
      "3\n",
      "4\n",
      "5\n",
      "6\n"
     ]
    }
   ],
   "source": [
    "for i in mylist:\n",
    "    j = addfunction(i, 2)\n",
    "    print(j)"
   ]
  },
  {
   "cell_type": "markdown",
   "id": "656c74be",
   "metadata": {},
   "source": [
    "# In-built python functions\n",
    "\n",
    "print, type "
   ]
  },
  {
   "cell_type": "markdown",
   "id": "d503907f",
   "metadata": {},
   "source": [
    "# In-built modules"
   ]
  },
  {
   "cell_type": "code",
   "execution_count": 15,
   "id": "50387cda",
   "metadata": {},
   "outputs": [],
   "source": [
    "import requests"
   ]
  },
  {
   "cell_type": "code",
   "execution_count": 17,
   "id": "2c8cb5c3",
   "metadata": {},
   "outputs": [
    {
     "name": "stdout",
     "output_type": "stream",
     "text": [
      "<!DOCTYPE html>\n",
      "<html>\n",
      "<body>\n",
      "\n",
      "<h1>This is a Test Page</h1>\n",
      "\n",
      "</body>\n",
      "</html>\n"
     ]
    }
   ],
   "source": [
    "x = requests.get('https://w3schools.com/python/demopage.htm')\n",
    "print(x.text)"
   ]
  },
  {
   "cell_type": "markdown",
   "id": "f0bb17e3",
   "metadata": {},
   "source": [
    "# OLIDA Oligogenic Combinations To Disease"
   ]
  },
  {
   "cell_type": "code",
   "execution_count": null,
   "id": "46a5052e",
   "metadata": {},
   "outputs": [],
   "source": []
  }
 ],
 "metadata": {
  "kernelspec": {
   "display_name": "Python 3 (ipykernel)",
   "language": "python",
   "name": "python3"
  },
  "language_info": {
   "codemirror_mode": {
    "name": "ipython",
    "version": 3
   },
   "file_extension": ".py",
   "mimetype": "text/x-python",
   "name": "python",
   "nbconvert_exporter": "python",
   "pygments_lexer": "ipython3",
   "version": "3.11.4"
  }
 },
 "nbformat": 4,
 "nbformat_minor": 5
}
